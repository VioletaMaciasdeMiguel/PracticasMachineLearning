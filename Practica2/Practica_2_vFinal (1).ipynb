{
  "nbformat": 4,
  "nbformat_minor": 0,
  "metadata": {
    "colab": {
      "name": "Practica_2_vFinal.ipynb",
      "provenance": [],
      "collapsed_sections": [
        "y5i8aEgOKswG",
        "P-z9qcKhKswK",
        "Yc2FOJFD6d5W",
        "qXBhm1B57N4r",
        "A6KcnZV9QHCb",
        "kkTTnZOwcg2k",
        "1EdHwwfgdKyL",
        "3gdj_UbxkCOh",
        "zo1LBsdEr5rP",
        "2RCs8U2zsT79",
        "SaOsYyuVucT2",
        "UlrD-oLKhzDj"
      ]
    },
    "kernelspec": {
      "display_name": "Python 3",
      "language": "python",
      "name": "python3"
    },
    "language_info": {
      "codemirror_mode": {
        "name": "ipython",
        "version": 3
      },
      "file_extension": ".py",
      "mimetype": "text/x-python",
      "name": "python",
      "nbconvert_exporter": "python",
      "pygments_lexer": "ipython3",
      "version": "3.8.3"
    }
  },
  "cells": [
    {
      "cell_type": "markdown",
      "metadata": {
        "id": "KmxVuUetxVOZ"
      },
      "source": [
        "Práctica realizada por Raúl Rivero, Álvaro Pérez y Daniel Rebollar"
      ]
    },
    {
      "cell_type": "markdown",
      "metadata": {
        "id": "y5i8aEgOKswG"
      },
      "source": [
        "# **Descripción del problema y Preprocesamiento**\n",
        "Disponemos de un conjunto de datos con imágenes de escenas de la\n",
        "naturaleza de todo el mundo.<br><br>\n",
        "El problema de clasificación a resolver consiste en\n",
        "determinar la etiqueta de una imagen conteniendo una\n",
        "escena entre un conjunto de etiquetas predefinidas.<br><br>\n",
        "## **El conjunto de datos**\n",
        "El conjunto de datos contiene 17.000 imágenes de tamaño 150x150 píxeles\n",
        "etiquetadas en 6 categorías diferentes:<br>\n",
        "edificios -> 0<br>\n",
        "bosques -> 1<br>\n",
        "glaciares -> 2<br>\n",
        "montañas -> 3<br>\n",
        "mares -> 4<br>\n",
        "calles -> 5<br>\n"
      ]
    },
    {
      "cell_type": "markdown",
      "metadata": {
        "id": "tddQgkw_b5Yo"
      },
      "source": [
        "En primer lugar vamos a importar todo lo necesario para realizar la práctica."
      ]
    },
    {
      "cell_type": "code",
      "metadata": {
        "id": "bDm5wNfPKswH"
      },
      "source": [
        "import urllib\n",
        "from urllib import request\n",
        "import zipfile\n",
        "import numpy as np\n",
        "from skimage import io\n",
        "from skimage import filters\n",
        "import os\n",
        "import os.path\n",
        "import pandas as pd\n",
        "from skimage import transform\n",
        "from sklearn.ensemble import BaggingClassifier\n",
        "from sklearn.naive_bayes import GaussianNB\n",
        "from sklearn.linear_model import LogisticRegression\n",
        "from sklearn.ensemble import AdaBoostClassifier\n",
        "from sklearn.ensemble import VotingClassifier\n",
        "from sklearn.datasets import make_classification\n",
        "from sklearn.svm import SVC\n",
        "from sklearn.metrics import accuracy_score\n",
        "from sklearn.tree import DecisionTreeClassifier\n",
        "from sklearn.model_selection import GridSearchCV\n",
        "import matplotlib.pyplot as plt\n",
        "from sklearn.metrics import plot_confusion_matrix\n",
        "from sklearn.ensemble import StackingClassifier"
      ],
      "execution_count": null,
      "outputs": []
    },
    {
      "cell_type": "markdown",
      "metadata": {
        "id": "KcwZjDmOb4sY"
      },
      "source": [
        "A continuación descargamos de la página web donde está el Dataset el conjunto de imágenes para Train y para Test.<br>\n",
        "Se descargan los ficheros .zip y se descomprimen en sus respectivas carpetas dentro de colab."
      ]
    },
    {
      "cell_type": "code",
      "metadata": {
        "id": "vc7rkCOjLOUS"
      },
      "source": [
        "drive_url_test = 'https://drive.upm.es/index.php/s/vdYG7VsSfEucX9U/download?path=%2F&files=test.zip'\n",
        "testfile = 'test.zip'\n",
        "\n",
        "drive_url_train = 'https://drive.upm.es/index.php/s/vdYG7VsSfEucX9U/download?path=%2F&files=train.zip'\n",
        "trainfile = 'train.zip'\n",
        "\n",
        "urllib.request.urlretrieve(drive_url_test, testfile)\n",
        "urllib.request.urlretrieve(drive_url_train, trainfile);"
      ],
      "execution_count": null,
      "outputs": []
    },
    {
      "cell_type": "code",
      "metadata": {
        "id": "7ByKiCfILPDz"
      },
      "source": [
        "zip_ref = zipfile.ZipFile(\"/content/test.zip\", 'r')\n",
        "zip_ref.extractall(\"/tmp/test\")\n",
        "zip_ref.close()\n",
        "zip_ref = zipfile.ZipFile(\"/content/train.zip\", 'r')\n",
        "zip_ref.extractall(\"/tmp/train\")\n",
        "zip_ref.close()"
      ],
      "execution_count": null,
      "outputs": []
    },
    {
      "cell_type": "markdown",
      "metadata": {
        "id": "2b2wqqb1d3rI"
      },
      "source": [
        "El siguiente paso es guardar las imágenes en listas para más adelante guardarlas todas en un mismo DataFrame. En lugar de guardar todas las imágenes que habia disponibles se guardan 1050 de cada categoría.<br>\n",
        "Además se hace una criba de imágenes que no tengan un tamaño de 150x150 ya que en el enunciado se dice que todas poseen dicho tamaño y así también se puede garantizar que no haya columnas extra sin datos.<br>\n",
        "Al inicio probamos a recortar un poco los bordes de la imagen para poder reducir su dimensionalidad y que fuese más facil trabajar con los datos (como se puede ver en la línea comentada). Vimos que no era lo más eficiente y decidimos hacerle un resize a las imágenes para que todas tuviesen un tamaño de 85x85.<br>\n",
        "Por último les hemos aplicado un filtro, en este caso `unsharp_mask` que nos permite mejorar los resultados del `accuracy_score`. Probamos diferentes valores y vimos que el mejor era `radius = 9`."
      ]
    },
    {
      "cell_type": "code",
      "metadata": {
        "id": "ks6hftgzix4U"
      },
      "source": [
        "radius = 9\n",
        "h = 85\n",
        "w = 85\n",
        "listaBosque = []\n",
        "cont = 0\n",
        "max = 0\n",
        "for i in os.listdir(\"/tmp/train/bosques\"):\n",
        "  aux = io.imread(\"/tmp/train/bosques/\" + i)\n",
        "  if(aux.shape == (150,150,3) and (cont % 2 == 0) and (max < 1050)):\n",
        "    #aux = aux[20:130, 20:130 , : ]\n",
        "    aux = transform.resize(aux,output_shape=(h,w))\n",
        "    aux = filters.unsharp_mask(aux, radius=radius)\n",
        "    listaBosque.append(aux.reshape(-1))\n",
        "    max = max + 1\n",
        "  cont = cont + 1"
      ],
      "execution_count": null,
      "outputs": []
    },
    {
      "cell_type": "code",
      "metadata": {
        "id": "8LtyyJNIwpL_"
      },
      "source": [
        "listaCalles = []\n",
        "cont = 0\n",
        "max = 0\n",
        "for i in os.listdir(\"/tmp/train/calles\"):\n",
        "  aux = io.imread(\"/tmp/train/calles/\" + i)\n",
        "  if(aux.shape == (150,150,3) and (cont % 2 == 0) and (max < 1050)):\n",
        "    #aux = aux[20:130, 20:130 , : ]\n",
        "    aux = transform.resize(aux,output_shape=(h,w))\n",
        "    aux = filters.unsharp_mask(aux, radius=radius)\n",
        "    listaCalles.append(aux.reshape(-1))\n",
        "    max = max + 1\n",
        "  cont = cont + 1"
      ],
      "execution_count": null,
      "outputs": []
    },
    {
      "cell_type": "code",
      "metadata": {
        "id": "e17pymlOwpQf"
      },
      "source": [
        "listaEdificios = []\n",
        "cont = 0\n",
        "max = 0\n",
        "for i in os.listdir(\"/tmp/train/edificios\"):\n",
        "  aux = io.imread(\"/tmp/train/edificios/\" + i)\n",
        "  if(aux.shape == (150,150,3) and (cont % 2 == 0) and (max < 1050)):\n",
        "    #aux = aux[20:130, 20:130 , : ]\n",
        "    aux = transform.resize(aux,output_shape=(h,w))\n",
        "    aux = filters.unsharp_mask(aux, radius=radius)\n",
        "    listaEdificios.append(aux.reshape(-1))\n",
        "    max = max + 1\n",
        "  cont = cont + 1"
      ],
      "execution_count": null,
      "outputs": []
    },
    {
      "cell_type": "code",
      "metadata": {
        "id": "V7i8dCh2wpWM"
      },
      "source": [
        "listaGlaciares = []\n",
        "cont = 0\n",
        "max = 0\n",
        "for i in os.listdir(\"/tmp/train/glaciares\"):\n",
        "  aux = io.imread(\"/tmp/train/glaciares/\" + i)\n",
        "  if(aux.shape == (150,150,3) and (cont % 2 == 0) and (max < 1050)):\n",
        "    #aux = aux[20:130, 20:130 , : ]\n",
        "    aux = transform.resize(aux,output_shape=(h,w))\n",
        "    aux = filters.unsharp_mask(aux, radius=radius)\n",
        "    listaGlaciares.append(aux.reshape(-1))\n",
        "    max = max + 1\n",
        "  cont = cont + 1"
      ],
      "execution_count": null,
      "outputs": []
    },
    {
      "cell_type": "code",
      "metadata": {
        "id": "Q2_lF6h7wpbA"
      },
      "source": [
        "listaMares = []\n",
        "cont = 0\n",
        "max = 0\n",
        "for i in os.listdir(\"/tmp/train/mares\"):\n",
        "  aux = io.imread(\"/tmp/train/mares/\" + i)\n",
        "  if(aux.shape == (150,150,3) and (cont % 2 == 0) and (max < 1050)):\n",
        "    #aux = aux[20:130, 20:130 , : ]\n",
        "    aux = transform.resize(aux,output_shape=(h,w))\n",
        "    aux = filters.unsharp_mask(aux, radius=radius)\n",
        "    listaMares.append(aux.reshape(-1))\n",
        "    max = max + 1\n",
        "  cont = cont + 1"
      ],
      "execution_count": null,
      "outputs": []
    },
    {
      "cell_type": "code",
      "metadata": {
        "id": "zeQlF9eixDI4"
      },
      "source": [
        "listaMontanias = []\n",
        "cont = 0\n",
        "max = 0\n",
        "for i in os.listdir(\"/tmp/train/montan╠âas\"):\n",
        "  aux = io.imread(\"/tmp/train/montan╠âas/\" + i)\n",
        "  if(aux.shape == (150,150,3) and (cont % 2 == 0) and (max < 1050)):\n",
        "    #aux = aux[20:130, 20:130 , : ]\n",
        "    aux = transform.resize(aux,output_shape=(h,w))\n",
        "    aux = filters.unsharp_mask(aux, radius=radius)\n",
        "    listaMontanias.append(aux.reshape(-1))\n",
        "    max = max + 1\n",
        "  cont = cont + 1"
      ],
      "execution_count": null,
      "outputs": []
    },
    {
      "cell_type": "markdown",
      "metadata": {
        "id": "IjgFrqxQ4ZgM"
      },
      "source": [
        "Se puede comprobar que el número de imágenes por lista es de 1050 en todos los casos."
      ]
    },
    {
      "cell_type": "code",
      "metadata": {
        "colab": {
          "base_uri": "https://localhost:8080/"
        },
        "id": "DDUdJQVGj3lT",
        "outputId": "d6379d76-ae9d-492d-ddb5-a01ea3614c17"
      },
      "source": [
        "print(\"Podemos observar que el número de imagenes de cada lista es:\")\n",
        "print(\"Bosques: \" +  str(len(listaBosque)))\n",
        "print(\"Calles: \" + str(len(listaCalles)))\n",
        "print(\"Edificios: \" + str(len(listaEdificios)))\n",
        "print(\"Glaciares: \" + str(len(listaGlaciares)))\n",
        "print(\"Mares: \" + str(len(listaMares)))\n",
        "print(\"Montañas: \" + str(len(listaMontanias)))"
      ],
      "execution_count": null,
      "outputs": [
        {
          "output_type": "stream",
          "text": [
            "Podemos observar que el número de imagenes de cada lista es:\n",
            "Bosques: 1050\n",
            "Calles: 1050\n",
            "Edificios: 1050\n",
            "Glaciares: 1050\n",
            "Mares: 1050\n",
            "Montañas: 1050\n"
          ],
          "name": "stdout"
        }
      ]
    },
    {
      "cell_type": "markdown",
      "metadata": {
        "id": "a1oN_Tk3k9Bc"
      },
      "source": [
        "Guardamos cada lista en su respectivo DataFrame y después les añadimos una columna de `Objetivo` que más adelante será nuestro `y_train`"
      ]
    },
    {
      "cell_type": "code",
      "metadata": {
        "id": "tkolziI9q8At"
      },
      "source": [
        "DF_Bosques = pd.DataFrame(listaBosque)\n",
        "DF_Calles = pd.DataFrame(listaCalles)\n",
        "DF_Edificios = pd.DataFrame(listaEdificios)\n",
        "DF_Glaciares = pd.DataFrame(listaGlaciares)\n",
        "DF_Mares = pd.DataFrame(listaMares)\n",
        "DF_Montanias = pd.DataFrame(listaMontanias)"
      ],
      "execution_count": null,
      "outputs": []
    },
    {
      "cell_type": "code",
      "metadata": {
        "id": "mvxngDZByX3H"
      },
      "source": [
        "DF_Bosques[\"Objetivo\"] = 1\n",
        "DF_Calles[\"Objetivo\"] = 5\n",
        "DF_Edificios[\"Objetivo\"] = 0\n",
        "DF_Glaciares[\"Objetivo\"] = 2\n",
        "DF_Mares[\"Objetivo\"] = 4\n",
        "DF_Montanias[\"Objetivo\"] = 3"
      ],
      "execution_count": null,
      "outputs": []
    },
    {
      "cell_type": "markdown",
      "metadata": {
        "id": "QNH9CbFCKswI"
      },
      "source": [
        "Lo unimos todo en un mismo DataFrame"
      ]
    },
    {
      "cell_type": "code",
      "metadata": {
        "colab": {
          "base_uri": "https://localhost:8080/",
          "height": 444
        },
        "id": "l2RND0ixwmR8",
        "outputId": "17679a2f-47b6-4343-8cbb-99fd86b47c74"
      },
      "source": [
        "DF_Completo = pd.concat([DF_Bosques, DF_Calles, DF_Edificios, DF_Glaciares, DF_Mares, DF_Montanias])\n",
        "DF_Completo"
      ],
      "execution_count": null,
      "outputs": [
        {
          "output_type": "execute_result",
          "data": {
            "text/html": [
              "<div>\n",
              "<style scoped>\n",
              "    .dataframe tbody tr th:only-of-type {\n",
              "        vertical-align: middle;\n",
              "    }\n",
              "\n",
              "    .dataframe tbody tr th {\n",
              "        vertical-align: top;\n",
              "    }\n",
              "\n",
              "    .dataframe thead th {\n",
              "        text-align: right;\n",
              "    }\n",
              "</style>\n",
              "<table border=\"1\" class=\"dataframe\">\n",
              "  <thead>\n",
              "    <tr style=\"text-align: right;\">\n",
              "      <th></th>\n",
              "      <th>0</th>\n",
              "      <th>1</th>\n",
              "      <th>2</th>\n",
              "      <th>3</th>\n",
              "      <th>4</th>\n",
              "      <th>5</th>\n",
              "      <th>6</th>\n",
              "      <th>7</th>\n",
              "      <th>8</th>\n",
              "      <th>9</th>\n",
              "      <th>10</th>\n",
              "      <th>11</th>\n",
              "      <th>12</th>\n",
              "      <th>13</th>\n",
              "      <th>14</th>\n",
              "      <th>15</th>\n",
              "      <th>16</th>\n",
              "      <th>17</th>\n",
              "      <th>18</th>\n",
              "      <th>19</th>\n",
              "      <th>20</th>\n",
              "      <th>21</th>\n",
              "      <th>22</th>\n",
              "      <th>23</th>\n",
              "      <th>24</th>\n",
              "      <th>25</th>\n",
              "      <th>26</th>\n",
              "      <th>27</th>\n",
              "      <th>28</th>\n",
              "      <th>29</th>\n",
              "      <th>30</th>\n",
              "      <th>31</th>\n",
              "      <th>32</th>\n",
              "      <th>33</th>\n",
              "      <th>34</th>\n",
              "      <th>35</th>\n",
              "      <th>36</th>\n",
              "      <th>37</th>\n",
              "      <th>38</th>\n",
              "      <th>39</th>\n",
              "      <th>...</th>\n",
              "      <th>21636</th>\n",
              "      <th>21637</th>\n",
              "      <th>21638</th>\n",
              "      <th>21639</th>\n",
              "      <th>21640</th>\n",
              "      <th>21641</th>\n",
              "      <th>21642</th>\n",
              "      <th>21643</th>\n",
              "      <th>21644</th>\n",
              "      <th>21645</th>\n",
              "      <th>21646</th>\n",
              "      <th>21647</th>\n",
              "      <th>21648</th>\n",
              "      <th>21649</th>\n",
              "      <th>21650</th>\n",
              "      <th>21651</th>\n",
              "      <th>21652</th>\n",
              "      <th>21653</th>\n",
              "      <th>21654</th>\n",
              "      <th>21655</th>\n",
              "      <th>21656</th>\n",
              "      <th>21657</th>\n",
              "      <th>21658</th>\n",
              "      <th>21659</th>\n",
              "      <th>21660</th>\n",
              "      <th>21661</th>\n",
              "      <th>21662</th>\n",
              "      <th>21663</th>\n",
              "      <th>21664</th>\n",
              "      <th>21665</th>\n",
              "      <th>21666</th>\n",
              "      <th>21667</th>\n",
              "      <th>21668</th>\n",
              "      <th>21669</th>\n",
              "      <th>21670</th>\n",
              "      <th>21671</th>\n",
              "      <th>21672</th>\n",
              "      <th>21673</th>\n",
              "      <th>21674</th>\n",
              "      <th>Objetivo</th>\n",
              "    </tr>\n",
              "  </thead>\n",
              "  <tbody>\n",
              "    <tr>\n",
              "      <th>0</th>\n",
              "      <td>0.804529</td>\n",
              "      <td>0.882967</td>\n",
              "      <td>0.275199</td>\n",
              "      <td>0.919830</td>\n",
              "      <td>1.000000</td>\n",
              "      <td>0.100562</td>\n",
              "      <td>0.942816</td>\n",
              "      <td>1.000000</td>\n",
              "      <td>0.178009</td>\n",
              "      <td>0.857427</td>\n",
              "      <td>0.946795</td>\n",
              "      <td>0.152278</td>\n",
              "      <td>1.000000</td>\n",
              "      <td>1.000000</td>\n",
              "      <td>0.425994</td>\n",
              "      <td>1.000000</td>\n",
              "      <td>1.000000</td>\n",
              "      <td>0.479934</td>\n",
              "      <td>1.000000</td>\n",
              "      <td>1.000000</td>\n",
              "      <td>0.288062</td>\n",
              "      <td>1.000000</td>\n",
              "      <td>1.000000</td>\n",
              "      <td>0.530860</td>\n",
              "      <td>0.751159</td>\n",
              "      <td>0.795448</td>\n",
              "      <td>0.359809</td>\n",
              "      <td>1.000000</td>\n",
              "      <td>1.000000</td>\n",
              "      <td>0.942456</td>\n",
              "      <td>0.542979</td>\n",
              "      <td>0.565992</td>\n",
              "      <td>0.363503</td>\n",
              "      <td>0.122712</td>\n",
              "      <td>0.182525</td>\n",
              "      <td>0.000000</td>\n",
              "      <td>0.107192</td>\n",
              "      <td>0.149392</td>\n",
              "      <td>0.000000</td>\n",
              "      <td>0.177255</td>\n",
              "      <td>...</td>\n",
              "      <td>0.000000</td>\n",
              "      <td>0.000000</td>\n",
              "      <td>0.000000</td>\n",
              "      <td>0.000000</td>\n",
              "      <td>0.000000</td>\n",
              "      <td>0.000000</td>\n",
              "      <td>0.000000</td>\n",
              "      <td>0.000000</td>\n",
              "      <td>0.000000</td>\n",
              "      <td>0.000000</td>\n",
              "      <td>0.003555</td>\n",
              "      <td>0.000000</td>\n",
              "      <td>0.000000</td>\n",
              "      <td>0.006383</td>\n",
              "      <td>0.000000</td>\n",
              "      <td>0.000000</td>\n",
              "      <td>0.005335</td>\n",
              "      <td>0.000000</td>\n",
              "      <td>0.000000</td>\n",
              "      <td>0.014893</td>\n",
              "      <td>0.007050</td>\n",
              "      <td>0.000000</td>\n",
              "      <td>0.007467</td>\n",
              "      <td>0.000000</td>\n",
              "      <td>0.000000</td>\n",
              "      <td>0.012360</td>\n",
              "      <td>0.004517</td>\n",
              "      <td>0.000658</td>\n",
              "      <td>0.010299</td>\n",
              "      <td>0.000000</td>\n",
              "      <td>0.008028</td>\n",
              "      <td>0.003611</td>\n",
              "      <td>0.000000</td>\n",
              "      <td>0.031353</td>\n",
              "      <td>0.031352</td>\n",
              "      <td>0.016820</td>\n",
              "      <td>0.000000</td>\n",
              "      <td>0.000000</td>\n",
              "      <td>0.000000</td>\n",
              "      <td>1</td>\n",
              "    </tr>\n",
              "    <tr>\n",
              "      <th>1</th>\n",
              "      <td>0.000000</td>\n",
              "      <td>0.000000</td>\n",
              "      <td>0.000000</td>\n",
              "      <td>0.000000</td>\n",
              "      <td>0.000000</td>\n",
              "      <td>0.000000</td>\n",
              "      <td>0.000000</td>\n",
              "      <td>0.000000</td>\n",
              "      <td>0.000000</td>\n",
              "      <td>0.000000</td>\n",
              "      <td>0.000000</td>\n",
              "      <td>0.000000</td>\n",
              "      <td>0.307781</td>\n",
              "      <td>0.307781</td>\n",
              "      <td>0.307781</td>\n",
              "      <td>0.291752</td>\n",
              "      <td>0.291752</td>\n",
              "      <td>0.291752</td>\n",
              "      <td>0.108342</td>\n",
              "      <td>0.108342</td>\n",
              "      <td>0.108342</td>\n",
              "      <td>0.000000</td>\n",
              "      <td>0.000000</td>\n",
              "      <td>0.000000</td>\n",
              "      <td>0.000000</td>\n",
              "      <td>0.000000</td>\n",
              "      <td>0.000000</td>\n",
              "      <td>0.000000</td>\n",
              "      <td>0.000000</td>\n",
              "      <td>0.000000</td>\n",
              "      <td>0.223073</td>\n",
              "      <td>0.223073</td>\n",
              "      <td>0.223073</td>\n",
              "      <td>0.167723</td>\n",
              "      <td>0.167723</td>\n",
              "      <td>0.167723</td>\n",
              "      <td>0.000000</td>\n",
              "      <td>0.000000</td>\n",
              "      <td>0.000000</td>\n",
              "      <td>0.124752</td>\n",
              "      <td>...</td>\n",
              "      <td>0.260674</td>\n",
              "      <td>0.260674</td>\n",
              "      <td>0.260674</td>\n",
              "      <td>0.206510</td>\n",
              "      <td>0.206510</td>\n",
              "      <td>0.206510</td>\n",
              "      <td>0.074029</td>\n",
              "      <td>0.074029</td>\n",
              "      <td>0.074029</td>\n",
              "      <td>0.143323</td>\n",
              "      <td>0.143323</td>\n",
              "      <td>0.143323</td>\n",
              "      <td>0.128866</td>\n",
              "      <td>0.128866</td>\n",
              "      <td>0.128866</td>\n",
              "      <td>0.045231</td>\n",
              "      <td>0.045231</td>\n",
              "      <td>0.045231</td>\n",
              "      <td>0.160711</td>\n",
              "      <td>0.160711</td>\n",
              "      <td>0.160711</td>\n",
              "      <td>0.000000</td>\n",
              "      <td>0.000000</td>\n",
              "      <td>0.000000</td>\n",
              "      <td>0.048972</td>\n",
              "      <td>0.048972</td>\n",
              "      <td>0.048972</td>\n",
              "      <td>0.366235</td>\n",
              "      <td>0.366235</td>\n",
              "      <td>0.366235</td>\n",
              "      <td>0.456461</td>\n",
              "      <td>0.456461</td>\n",
              "      <td>0.456461</td>\n",
              "      <td>0.392723</td>\n",
              "      <td>0.392723</td>\n",
              "      <td>0.392723</td>\n",
              "      <td>0.356327</td>\n",
              "      <td>0.356327</td>\n",
              "      <td>0.356327</td>\n",
              "      <td>1</td>\n",
              "    </tr>\n",
              "    <tr>\n",
              "      <th>2</th>\n",
              "      <td>0.431170</td>\n",
              "      <td>0.578756</td>\n",
              "      <td>0.096039</td>\n",
              "      <td>0.570082</td>\n",
              "      <td>0.731978</td>\n",
              "      <td>0.598287</td>\n",
              "      <td>0.326125</td>\n",
              "      <td>0.490572</td>\n",
              "      <td>0.268252</td>\n",
              "      <td>0.823080</td>\n",
              "      <td>0.961576</td>\n",
              "      <td>0.724485</td>\n",
              "      <td>1.000000</td>\n",
              "      <td>1.000000</td>\n",
              "      <td>1.000000</td>\n",
              "      <td>0.078924</td>\n",
              "      <td>0.248310</td>\n",
              "      <td>0.000000</td>\n",
              "      <td>0.008226</td>\n",
              "      <td>0.257523</td>\n",
              "      <td>0.000000</td>\n",
              "      <td>0.398341</td>\n",
              "      <td>0.513327</td>\n",
              "      <td>0.151642</td>\n",
              "      <td>0.396341</td>\n",
              "      <td>0.570619</td>\n",
              "      <td>0.043747</td>\n",
              "      <td>0.114246</td>\n",
              "      <td>0.274724</td>\n",
              "      <td>0.000000</td>\n",
              "      <td>0.205593</td>\n",
              "      <td>0.362190</td>\n",
              "      <td>0.056092</td>\n",
              "      <td>0.136285</td>\n",
              "      <td>0.332288</td>\n",
              "      <td>0.000000</td>\n",
              "      <td>0.035321</td>\n",
              "      <td>0.205176</td>\n",
              "      <td>0.000000</td>\n",
              "      <td>0.000000</td>\n",
              "      <td>...</td>\n",
              "      <td>0.351398</td>\n",
              "      <td>0.408328</td>\n",
              "      <td>0.177682</td>\n",
              "      <td>0.174342</td>\n",
              "      <td>0.215559</td>\n",
              "      <td>0.059457</td>\n",
              "      <td>0.000000</td>\n",
              "      <td>0.013790</td>\n",
              "      <td>0.000000</td>\n",
              "      <td>0.000000</td>\n",
              "      <td>0.000000</td>\n",
              "      <td>0.000000</td>\n",
              "      <td>0.060638</td>\n",
              "      <td>0.106197</td>\n",
              "      <td>0.000000</td>\n",
              "      <td>0.198594</td>\n",
              "      <td>0.232660</td>\n",
              "      <td>0.094401</td>\n",
              "      <td>0.093770</td>\n",
              "      <td>0.126933</td>\n",
              "      <td>0.024064</td>\n",
              "      <td>0.015834</td>\n",
              "      <td>0.040978</td>\n",
              "      <td>0.000000</td>\n",
              "      <td>0.044647</td>\n",
              "      <td>0.094982</td>\n",
              "      <td>0.019042</td>\n",
              "      <td>0.000000</td>\n",
              "      <td>0.022767</td>\n",
              "      <td>0.000000</td>\n",
              "      <td>0.000000</td>\n",
              "      <td>0.000000</td>\n",
              "      <td>0.000000</td>\n",
              "      <td>0.000000</td>\n",
              "      <td>0.000000</td>\n",
              "      <td>0.000000</td>\n",
              "      <td>0.000000</td>\n",
              "      <td>0.004781</td>\n",
              "      <td>0.000000</td>\n",
              "      <td>1</td>\n",
              "    </tr>\n",
              "    <tr>\n",
              "      <th>3</th>\n",
              "      <td>0.733139</td>\n",
              "      <td>0.843348</td>\n",
              "      <td>0.000000</td>\n",
              "      <td>0.716534</td>\n",
              "      <td>0.800439</td>\n",
              "      <td>0.000000</td>\n",
              "      <td>0.658422</td>\n",
              "      <td>0.790342</td>\n",
              "      <td>0.000000</td>\n",
              "      <td>0.632212</td>\n",
              "      <td>0.746757</td>\n",
              "      <td>0.000000</td>\n",
              "      <td>0.662632</td>\n",
              "      <td>0.781139</td>\n",
              "      <td>0.000000</td>\n",
              "      <td>0.516105</td>\n",
              "      <td>0.681725</td>\n",
              "      <td>0.000000</td>\n",
              "      <td>0.428131</td>\n",
              "      <td>0.610971</td>\n",
              "      <td>0.000000</td>\n",
              "      <td>0.668905</td>\n",
              "      <td>0.886076</td>\n",
              "      <td>0.000000</td>\n",
              "      <td>0.562293</td>\n",
              "      <td>0.805775</td>\n",
              "      <td>0.000000</td>\n",
              "      <td>0.643790</td>\n",
              "      <td>0.807904</td>\n",
              "      <td>0.000000</td>\n",
              "      <td>0.548737</td>\n",
              "      <td>0.754842</td>\n",
              "      <td>0.000000</td>\n",
              "      <td>0.497462</td>\n",
              "      <td>0.763978</td>\n",
              "      <td>0.000000</td>\n",
              "      <td>0.467133</td>\n",
              "      <td>0.733398</td>\n",
              "      <td>0.000000</td>\n",
              "      <td>0.625156</td>\n",
              "      <td>...</td>\n",
              "      <td>0.664525</td>\n",
              "      <td>0.280857</td>\n",
              "      <td>0.047239</td>\n",
              "      <td>0.564842</td>\n",
              "      <td>0.239584</td>\n",
              "      <td>0.027250</td>\n",
              "      <td>0.600354</td>\n",
              "      <td>0.286576</td>\n",
              "      <td>0.087757</td>\n",
              "      <td>0.829409</td>\n",
              "      <td>0.405344</td>\n",
              "      <td>0.155389</td>\n",
              "      <td>0.976368</td>\n",
              "      <td>0.526658</td>\n",
              "      <td>0.221468</td>\n",
              "      <td>0.744922</td>\n",
              "      <td>0.332799</td>\n",
              "      <td>0.038119</td>\n",
              "      <td>0.668362</td>\n",
              "      <td>0.258355</td>\n",
              "      <td>0.000000</td>\n",
              "      <td>0.874135</td>\n",
              "      <td>0.487515</td>\n",
              "      <td>0.204708</td>\n",
              "      <td>0.754049</td>\n",
              "      <td>0.353466</td>\n",
              "      <td>0.078679</td>\n",
              "      <td>0.734949</td>\n",
              "      <td>0.309256</td>\n",
              "      <td>0.052421</td>\n",
              "      <td>0.616125</td>\n",
              "      <td>0.207292</td>\n",
              "      <td>0.000000</td>\n",
              "      <td>0.755554</td>\n",
              "      <td>0.350962</td>\n",
              "      <td>0.064647</td>\n",
              "      <td>0.673469</td>\n",
              "      <td>0.255925</td>\n",
              "      <td>0.000000</td>\n",
              "      <td>1</td>\n",
              "    </tr>\n",
              "    <tr>\n",
              "      <th>4</th>\n",
              "      <td>0.516589</td>\n",
              "      <td>0.962139</td>\n",
              "      <td>0.344224</td>\n",
              "      <td>0.311838</td>\n",
              "      <td>0.883666</td>\n",
              "      <td>0.000000</td>\n",
              "      <td>0.246576</td>\n",
              "      <td>0.624381</td>\n",
              "      <td>0.000000</td>\n",
              "      <td>0.386621</td>\n",
              "      <td>1.000000</td>\n",
              "      <td>0.144828</td>\n",
              "      <td>0.744199</td>\n",
              "      <td>1.000000</td>\n",
              "      <td>0.547904</td>\n",
              "      <td>0.527552</td>\n",
              "      <td>1.000000</td>\n",
              "      <td>0.106357</td>\n",
              "      <td>0.351736</td>\n",
              "      <td>1.000000</td>\n",
              "      <td>0.000000</td>\n",
              "      <td>0.543669</td>\n",
              "      <td>1.000000</td>\n",
              "      <td>0.293401</td>\n",
              "      <td>0.660773</td>\n",
              "      <td>1.000000</td>\n",
              "      <td>0.342665</td>\n",
              "      <td>0.561610</td>\n",
              "      <td>1.000000</td>\n",
              "      <td>0.220509</td>\n",
              "      <td>0.638125</td>\n",
              "      <td>1.000000</td>\n",
              "      <td>0.286724</td>\n",
              "      <td>0.865946</td>\n",
              "      <td>1.000000</td>\n",
              "      <td>0.273919</td>\n",
              "      <td>0.468313</td>\n",
              "      <td>0.765774</td>\n",
              "      <td>0.127062</td>\n",
              "      <td>0.000000</td>\n",
              "      <td>...</td>\n",
              "      <td>0.162426</td>\n",
              "      <td>0.564066</td>\n",
              "      <td>0.000000</td>\n",
              "      <td>0.249951</td>\n",
              "      <td>0.762982</td>\n",
              "      <td>0.036585</td>\n",
              "      <td>0.071156</td>\n",
              "      <td>0.656852</td>\n",
              "      <td>0.000000</td>\n",
              "      <td>0.147943</td>\n",
              "      <td>0.649698</td>\n",
              "      <td>0.192207</td>\n",
              "      <td>0.000000</td>\n",
              "      <td>0.234604</td>\n",
              "      <td>0.000000</td>\n",
              "      <td>0.000000</td>\n",
              "      <td>0.000000</td>\n",
              "      <td>0.000000</td>\n",
              "      <td>0.000000</td>\n",
              "      <td>0.000000</td>\n",
              "      <td>0.000000</td>\n",
              "      <td>0.000000</td>\n",
              "      <td>0.017628</td>\n",
              "      <td>0.000000</td>\n",
              "      <td>0.000000</td>\n",
              "      <td>0.185858</td>\n",
              "      <td>0.000000</td>\n",
              "      <td>0.108890</td>\n",
              "      <td>0.533387</td>\n",
              "      <td>0.000000</td>\n",
              "      <td>0.000000</td>\n",
              "      <td>0.462638</td>\n",
              "      <td>0.000000</td>\n",
              "      <td>0.293682</td>\n",
              "      <td>0.795620</td>\n",
              "      <td>0.155966</td>\n",
              "      <td>0.046262</td>\n",
              "      <td>0.499778</td>\n",
              "      <td>0.000000</td>\n",
              "      <td>1</td>\n",
              "    </tr>\n",
              "    <tr>\n",
              "      <th>...</th>\n",
              "      <td>...</td>\n",
              "      <td>...</td>\n",
              "      <td>...</td>\n",
              "      <td>...</td>\n",
              "      <td>...</td>\n",
              "      <td>...</td>\n",
              "      <td>...</td>\n",
              "      <td>...</td>\n",
              "      <td>...</td>\n",
              "      <td>...</td>\n",
              "      <td>...</td>\n",
              "      <td>...</td>\n",
              "      <td>...</td>\n",
              "      <td>...</td>\n",
              "      <td>...</td>\n",
              "      <td>...</td>\n",
              "      <td>...</td>\n",
              "      <td>...</td>\n",
              "      <td>...</td>\n",
              "      <td>...</td>\n",
              "      <td>...</td>\n",
              "      <td>...</td>\n",
              "      <td>...</td>\n",
              "      <td>...</td>\n",
              "      <td>...</td>\n",
              "      <td>...</td>\n",
              "      <td>...</td>\n",
              "      <td>...</td>\n",
              "      <td>...</td>\n",
              "      <td>...</td>\n",
              "      <td>...</td>\n",
              "      <td>...</td>\n",
              "      <td>...</td>\n",
              "      <td>...</td>\n",
              "      <td>...</td>\n",
              "      <td>...</td>\n",
              "      <td>...</td>\n",
              "      <td>...</td>\n",
              "      <td>...</td>\n",
              "      <td>...</td>\n",
              "      <td>...</td>\n",
              "      <td>...</td>\n",
              "      <td>...</td>\n",
              "      <td>...</td>\n",
              "      <td>...</td>\n",
              "      <td>...</td>\n",
              "      <td>...</td>\n",
              "      <td>...</td>\n",
              "      <td>...</td>\n",
              "      <td>...</td>\n",
              "      <td>...</td>\n",
              "      <td>...</td>\n",
              "      <td>...</td>\n",
              "      <td>...</td>\n",
              "      <td>...</td>\n",
              "      <td>...</td>\n",
              "      <td>...</td>\n",
              "      <td>...</td>\n",
              "      <td>...</td>\n",
              "      <td>...</td>\n",
              "      <td>...</td>\n",
              "      <td>...</td>\n",
              "      <td>...</td>\n",
              "      <td>...</td>\n",
              "      <td>...</td>\n",
              "      <td>...</td>\n",
              "      <td>...</td>\n",
              "      <td>...</td>\n",
              "      <td>...</td>\n",
              "      <td>...</td>\n",
              "      <td>...</td>\n",
              "      <td>...</td>\n",
              "      <td>...</td>\n",
              "      <td>...</td>\n",
              "      <td>...</td>\n",
              "      <td>...</td>\n",
              "      <td>...</td>\n",
              "      <td>...</td>\n",
              "      <td>...</td>\n",
              "      <td>...</td>\n",
              "      <td>...</td>\n",
              "    </tr>\n",
              "    <tr>\n",
              "      <th>1045</th>\n",
              "      <td>0.000000</td>\n",
              "      <td>0.349092</td>\n",
              "      <td>0.694190</td>\n",
              "      <td>0.000000</td>\n",
              "      <td>0.349411</td>\n",
              "      <td>0.694509</td>\n",
              "      <td>0.000000</td>\n",
              "      <td>0.356143</td>\n",
              "      <td>0.701241</td>\n",
              "      <td>0.000000</td>\n",
              "      <td>0.362486</td>\n",
              "      <td>0.698031</td>\n",
              "      <td>0.000000</td>\n",
              "      <td>0.366576</td>\n",
              "      <td>0.695988</td>\n",
              "      <td>0.000000</td>\n",
              "      <td>0.372449</td>\n",
              "      <td>0.704242</td>\n",
              "      <td>0.000000</td>\n",
              "      <td>0.377987</td>\n",
              "      <td>0.707398</td>\n",
              "      <td>0.000000</td>\n",
              "      <td>0.380196</td>\n",
              "      <td>0.708813</td>\n",
              "      <td>0.000000</td>\n",
              "      <td>0.387156</td>\n",
              "      <td>0.708724</td>\n",
              "      <td>0.000000</td>\n",
              "      <td>0.398875</td>\n",
              "      <td>0.736130</td>\n",
              "      <td>0.000000</td>\n",
              "      <td>0.394687</td>\n",
              "      <td>0.727009</td>\n",
              "      <td>0.000000</td>\n",
              "      <td>0.388867</td>\n",
              "      <td>0.718278</td>\n",
              "      <td>0.000000</td>\n",
              "      <td>0.395528</td>\n",
              "      <td>0.724940</td>\n",
              "      <td>0.000000</td>\n",
              "      <td>...</td>\n",
              "      <td>0.014117</td>\n",
              "      <td>0.000000</td>\n",
              "      <td>0.000000</td>\n",
              "      <td>0.220977</td>\n",
              "      <td>0.175370</td>\n",
              "      <td>0.000000</td>\n",
              "      <td>0.543482</td>\n",
              "      <td>0.565023</td>\n",
              "      <td>0.046434</td>\n",
              "      <td>0.000000</td>\n",
              "      <td>0.000000</td>\n",
              "      <td>0.000000</td>\n",
              "      <td>0.100787</td>\n",
              "      <td>0.080026</td>\n",
              "      <td>0.000000</td>\n",
              "      <td>0.206563</td>\n",
              "      <td>0.150813</td>\n",
              "      <td>0.000000</td>\n",
              "      <td>0.295573</td>\n",
              "      <td>0.137557</td>\n",
              "      <td>0.000000</td>\n",
              "      <td>0.149131</td>\n",
              "      <td>0.053704</td>\n",
              "      <td>0.000000</td>\n",
              "      <td>0.000000</td>\n",
              "      <td>0.000000</td>\n",
              "      <td>0.000000</td>\n",
              "      <td>0.000000</td>\n",
              "      <td>0.000000</td>\n",
              "      <td>0.000000</td>\n",
              "      <td>0.142261</td>\n",
              "      <td>0.060830</td>\n",
              "      <td>0.000000</td>\n",
              "      <td>0.000000</td>\n",
              "      <td>0.000000</td>\n",
              "      <td>0.000000</td>\n",
              "      <td>0.159484</td>\n",
              "      <td>0.147936</td>\n",
              "      <td>0.008742</td>\n",
              "      <td>3</td>\n",
              "    </tr>\n",
              "    <tr>\n",
              "      <th>1046</th>\n",
              "      <td>0.411429</td>\n",
              "      <td>0.607507</td>\n",
              "      <td>0.921232</td>\n",
              "      <td>0.459274</td>\n",
              "      <td>0.656506</td>\n",
              "      <td>0.966770</td>\n",
              "      <td>0.586376</td>\n",
              "      <td>0.781464</td>\n",
              "      <td>1.000000</td>\n",
              "      <td>0.591077</td>\n",
              "      <td>0.780282</td>\n",
              "      <td>1.000000</td>\n",
              "      <td>0.593747</td>\n",
              "      <td>0.790578</td>\n",
              "      <td>1.000000</td>\n",
              "      <td>0.550045</td>\n",
              "      <td>0.756578</td>\n",
              "      <td>1.000000</td>\n",
              "      <td>0.441640</td>\n",
              "      <td>0.664070</td>\n",
              "      <td>0.977564</td>\n",
              "      <td>0.405880</td>\n",
              "      <td>0.644865</td>\n",
              "      <td>0.982248</td>\n",
              "      <td>0.415875</td>\n",
              "      <td>0.659012</td>\n",
              "      <td>1.000000</td>\n",
              "      <td>0.376157</td>\n",
              "      <td>0.627138</td>\n",
              "      <td>0.996558</td>\n",
              "      <td>0.246301</td>\n",
              "      <td>0.497281</td>\n",
              "      <td>0.882055</td>\n",
              "      <td>0.093301</td>\n",
              "      <td>0.350509</td>\n",
              "      <td>0.759118</td>\n",
              "      <td>0.076231</td>\n",
              "      <td>0.335055</td>\n",
              "      <td>0.750740</td>\n",
              "      <td>0.065561</td>\n",
              "      <td>...</td>\n",
              "      <td>0.191443</td>\n",
              "      <td>0.266414</td>\n",
              "      <td>0.180140</td>\n",
              "      <td>0.143761</td>\n",
              "      <td>0.206506</td>\n",
              "      <td>0.120232</td>\n",
              "      <td>0.120751</td>\n",
              "      <td>0.168271</td>\n",
              "      <td>0.089609</td>\n",
              "      <td>0.327445</td>\n",
              "      <td>0.366660</td>\n",
              "      <td>0.310476</td>\n",
              "      <td>0.063781</td>\n",
              "      <td>0.102997</td>\n",
              "      <td>0.048095</td>\n",
              "      <td>0.144048</td>\n",
              "      <td>0.201026</td>\n",
              "      <td>0.132053</td>\n",
              "      <td>0.218014</td>\n",
              "      <td>0.296446</td>\n",
              "      <td>0.210171</td>\n",
              "      <td>0.063830</td>\n",
              "      <td>0.142261</td>\n",
              "      <td>0.055986</td>\n",
              "      <td>0.098827</td>\n",
              "      <td>0.161572</td>\n",
              "      <td>0.075297</td>\n",
              "      <td>0.118601</td>\n",
              "      <td>0.199115</td>\n",
              "      <td>0.100011</td>\n",
              "      <td>0.109817</td>\n",
              "      <td>0.214084</td>\n",
              "      <td>0.098283</td>\n",
              "      <td>0.052465</td>\n",
              "      <td>0.149059</td>\n",
              "      <td>0.035815</td>\n",
              "      <td>0.098833</td>\n",
              "      <td>0.176572</td>\n",
              "      <td>0.067474</td>\n",
              "      <td>3</td>\n",
              "    </tr>\n",
              "    <tr>\n",
              "      <th>1047</th>\n",
              "      <td>0.000000</td>\n",
              "      <td>0.313672</td>\n",
              "      <td>0.877224</td>\n",
              "      <td>0.000000</td>\n",
              "      <td>0.307031</td>\n",
              "      <td>0.894302</td>\n",
              "      <td>0.000000</td>\n",
              "      <td>0.297381</td>\n",
              "      <td>0.910298</td>\n",
              "      <td>0.000000</td>\n",
              "      <td>0.301906</td>\n",
              "      <td>0.913392</td>\n",
              "      <td>0.000000</td>\n",
              "      <td>0.317516</td>\n",
              "      <td>0.908288</td>\n",
              "      <td>0.000000</td>\n",
              "      <td>0.328725</td>\n",
              "      <td>0.905656</td>\n",
              "      <td>0.000000</td>\n",
              "      <td>0.329135</td>\n",
              "      <td>0.912152</td>\n",
              "      <td>0.000000</td>\n",
              "      <td>0.324171</td>\n",
              "      <td>0.924734</td>\n",
              "      <td>0.000000</td>\n",
              "      <td>0.311242</td>\n",
              "      <td>0.934770</td>\n",
              "      <td>0.000000</td>\n",
              "      <td>0.327867</td>\n",
              "      <td>0.930994</td>\n",
              "      <td>0.000000</td>\n",
              "      <td>0.326166</td>\n",
              "      <td>0.927088</td>\n",
              "      <td>0.000000</td>\n",
              "      <td>0.319858</td>\n",
              "      <td>0.920781</td>\n",
              "      <td>0.000000</td>\n",
              "      <td>0.318235</td>\n",
              "      <td>0.919157</td>\n",
              "      <td>0.000000</td>\n",
              "      <td>...</td>\n",
              "      <td>0.000000</td>\n",
              "      <td>0.000000</td>\n",
              "      <td>0.000000</td>\n",
              "      <td>0.000000</td>\n",
              "      <td>0.004355</td>\n",
              "      <td>0.000000</td>\n",
              "      <td>0.061138</td>\n",
              "      <td>0.084897</td>\n",
              "      <td>0.026590</td>\n",
              "      <td>0.015834</td>\n",
              "      <td>0.033237</td>\n",
              "      <td>0.012551</td>\n",
              "      <td>0.000000</td>\n",
              "      <td>0.000000</td>\n",
              "      <td>0.000000</td>\n",
              "      <td>0.029298</td>\n",
              "      <td>0.063106</td>\n",
              "      <td>0.000000</td>\n",
              "      <td>0.084060</td>\n",
              "      <td>0.132822</td>\n",
              "      <td>0.009374</td>\n",
              "      <td>0.000000</td>\n",
              "      <td>0.040453</td>\n",
              "      <td>0.000000</td>\n",
              "      <td>0.352888</td>\n",
              "      <td>0.435410</td>\n",
              "      <td>0.161335</td>\n",
              "      <td>0.226128</td>\n",
              "      <td>0.288961</td>\n",
              "      <td>0.022892</td>\n",
              "      <td>0.361597</td>\n",
              "      <td>0.338793</td>\n",
              "      <td>0.156644</td>\n",
              "      <td>0.048125</td>\n",
              "      <td>0.017885</td>\n",
              "      <td>0.000000</td>\n",
              "      <td>0.000000</td>\n",
              "      <td>0.000000</td>\n",
              "      <td>0.000000</td>\n",
              "      <td>3</td>\n",
              "    </tr>\n",
              "    <tr>\n",
              "      <th>1048</th>\n",
              "      <td>0.315671</td>\n",
              "      <td>0.509456</td>\n",
              "      <td>0.683152</td>\n",
              "      <td>0.323448</td>\n",
              "      <td>0.506819</td>\n",
              "      <td>0.680080</td>\n",
              "      <td>0.337144</td>\n",
              "      <td>0.502542</td>\n",
              "      <td>0.675518</td>\n",
              "      <td>0.342928</td>\n",
              "      <td>0.502328</td>\n",
              "      <td>0.668601</td>\n",
              "      <td>0.354354</td>\n",
              "      <td>0.502050</td>\n",
              "      <td>0.666756</td>\n",
              "      <td>0.360537</td>\n",
              "      <td>0.501713</td>\n",
              "      <td>0.664804</td>\n",
              "      <td>0.363059</td>\n",
              "      <td>0.501324</td>\n",
              "      <td>0.658187</td>\n",
              "      <td>0.362714</td>\n",
              "      <td>0.506658</td>\n",
              "      <td>0.657754</td>\n",
              "      <td>0.367089</td>\n",
              "      <td>0.510688</td>\n",
              "      <td>0.657285</td>\n",
              "      <td>0.380075</td>\n",
              "      <td>0.516895</td>\n",
              "      <td>0.661634</td>\n",
              "      <td>0.389611</td>\n",
              "      <td>0.522944</td>\n",
              "      <td>0.656277</td>\n",
              "      <td>0.392938</td>\n",
              "      <td>0.526271</td>\n",
              "      <td>0.655757</td>\n",
              "      <td>0.396418</td>\n",
              "      <td>0.529751</td>\n",
              "      <td>0.655241</td>\n",
              "      <td>0.406294</td>\n",
              "      <td>...</td>\n",
              "      <td>0.105023</td>\n",
              "      <td>0.094826</td>\n",
              "      <td>0.007167</td>\n",
              "      <td>0.090167</td>\n",
              "      <td>0.098858</td>\n",
              "      <td>0.013351</td>\n",
              "      <td>0.063050</td>\n",
              "      <td>0.066103</td>\n",
              "      <td>0.000000</td>\n",
              "      <td>0.181307</td>\n",
              "      <td>0.182535</td>\n",
              "      <td>0.074936</td>\n",
              "      <td>0.192739</td>\n",
              "      <td>0.177052</td>\n",
              "      <td>0.072093</td>\n",
              "      <td>0.234373</td>\n",
              "      <td>0.206562</td>\n",
              "      <td>0.112445</td>\n",
              "      <td>0.190129</td>\n",
              "      <td>0.158899</td>\n",
              "      <td>0.072394</td>\n",
              "      <td>0.571618</td>\n",
              "      <td>0.552234</td>\n",
              "      <td>0.473504</td>\n",
              "      <td>1.000000</td>\n",
              "      <td>1.000000</td>\n",
              "      <td>1.000000</td>\n",
              "      <td>1.000000</td>\n",
              "      <td>0.984976</td>\n",
              "      <td>0.874941</td>\n",
              "      <td>1.000000</td>\n",
              "      <td>0.995933</td>\n",
              "      <td>0.902610</td>\n",
              "      <td>0.705688</td>\n",
              "      <td>0.690002</td>\n",
              "      <td>0.616096</td>\n",
              "      <td>0.290581</td>\n",
              "      <td>0.274895</td>\n",
              "      <td>0.160952</td>\n",
              "      <td>3</td>\n",
              "    </tr>\n",
              "    <tr>\n",
              "      <th>1049</th>\n",
              "      <td>0.831774</td>\n",
              "      <td>0.863147</td>\n",
              "      <td>0.949421</td>\n",
              "      <td>0.835381</td>\n",
              "      <td>0.866041</td>\n",
              "      <td>0.953028</td>\n",
              "      <td>0.839306</td>\n",
              "      <td>0.870252</td>\n",
              "      <td>0.956953</td>\n",
              "      <td>0.845277</td>\n",
              "      <td>0.873650</td>\n",
              "      <td>0.962924</td>\n",
              "      <td>0.846444</td>\n",
              "      <td>0.877817</td>\n",
              "      <td>0.964091</td>\n",
              "      <td>0.849952</td>\n",
              "      <td>0.881325</td>\n",
              "      <td>0.964220</td>\n",
              "      <td>0.856140</td>\n",
              "      <td>0.887513</td>\n",
              "      <td>0.966032</td>\n",
              "      <td>0.863428</td>\n",
              "      <td>0.894801</td>\n",
              "      <td>0.967594</td>\n",
              "      <td>0.865140</td>\n",
              "      <td>0.900434</td>\n",
              "      <td>0.974021</td>\n",
              "      <td>0.871074</td>\n",
              "      <td>0.902447</td>\n",
              "      <td>0.985234</td>\n",
              "      <td>0.876814</td>\n",
              "      <td>0.908186</td>\n",
              "      <td>0.991550</td>\n",
              "      <td>0.875946</td>\n",
              "      <td>0.907318</td>\n",
              "      <td>0.993593</td>\n",
              "      <td>0.875037</td>\n",
              "      <td>0.906409</td>\n",
              "      <td>0.991008</td>\n",
              "      <td>0.874089</td>\n",
              "      <td>...</td>\n",
              "      <td>0.000000</td>\n",
              "      <td>0.000000</td>\n",
              "      <td>0.000000</td>\n",
              "      <td>0.000000</td>\n",
              "      <td>0.075489</td>\n",
              "      <td>0.000000</td>\n",
              "      <td>0.204883</td>\n",
              "      <td>0.314368</td>\n",
              "      <td>0.119443</td>\n",
              "      <td>0.000000</td>\n",
              "      <td>0.115482</td>\n",
              "      <td>0.000000</td>\n",
              "      <td>0.250973</td>\n",
              "      <td>0.369542</td>\n",
              "      <td>0.146590</td>\n",
              "      <td>0.161974</td>\n",
              "      <td>0.266702</td>\n",
              "      <td>0.064369</td>\n",
              "      <td>0.194753</td>\n",
              "      <td>0.283014</td>\n",
              "      <td>0.094495</td>\n",
              "      <td>0.422028</td>\n",
              "      <td>0.522136</td>\n",
              "      <td>0.315603</td>\n",
              "      <td>0.308297</td>\n",
              "      <td>0.410257</td>\n",
              "      <td>0.183207</td>\n",
              "      <td>0.100172</td>\n",
              "      <td>0.208686</td>\n",
              "      <td>0.002079</td>\n",
              "      <td>0.021084</td>\n",
              "      <td>0.131152</td>\n",
              "      <td>0.000000</td>\n",
              "      <td>0.232407</td>\n",
              "      <td>0.351898</td>\n",
              "      <td>0.105533</td>\n",
              "      <td>0.171102</td>\n",
              "      <td>0.280905</td>\n",
              "      <td>0.016085</td>\n",
              "      <td>3</td>\n",
              "    </tr>\n",
              "  </tbody>\n",
              "</table>\n",
              "<p>6300 rows × 21676 columns</p>\n",
              "</div>"
            ],
            "text/plain": [
              "             0         1         2  ...     21673     21674  Objetivo\n",
              "0     0.804529  0.882967  0.275199  ...  0.000000  0.000000         1\n",
              "1     0.000000  0.000000  0.000000  ...  0.356327  0.356327         1\n",
              "2     0.431170  0.578756  0.096039  ...  0.004781  0.000000         1\n",
              "3     0.733139  0.843348  0.000000  ...  0.255925  0.000000         1\n",
              "4     0.516589  0.962139  0.344224  ...  0.499778  0.000000         1\n",
              "...        ...       ...       ...  ...       ...       ...       ...\n",
              "1045  0.000000  0.349092  0.694190  ...  0.147936  0.008742         3\n",
              "1046  0.411429  0.607507  0.921232  ...  0.176572  0.067474         3\n",
              "1047  0.000000  0.313672  0.877224  ...  0.000000  0.000000         3\n",
              "1048  0.315671  0.509456  0.683152  ...  0.274895  0.160952         3\n",
              "1049  0.831774  0.863147  0.949421  ...  0.280905  0.016085         3\n",
              "\n",
              "[6300 rows x 21676 columns]"
            ]
          },
          "metadata": {
            "tags": []
          },
          "execution_count": 13
        }
      ]
    },
    {
      "cell_type": "markdown",
      "metadata": {
        "id": "-XvhBu9u4s5d"
      },
      "source": [
        "Dado que el entorno que estamos utilizando es Google Colab y es bastante limitado, hemos decidido ir borrando variables que sabemos que ya no vamos a usar para ahorrar RAM."
      ]
    },
    {
      "cell_type": "code",
      "metadata": {
        "id": "rgGC6PGDKswK"
      },
      "source": [
        "del listaBosque\n",
        "del listaCalles\n",
        "del listaEdificios\n",
        "del listaGlaciares\n",
        "del listaMares\n",
        "del listaMontanias\n",
        "\n",
        "del DF_Bosques\n",
        "del DF_Calles\n",
        "del DF_Edificios\n",
        "del DF_Glaciares\n",
        "del DF_Mares\n",
        "del DF_Montanias"
      ],
      "execution_count": null,
      "outputs": []
    },
    {
      "cell_type": "markdown",
      "metadata": {
        "id": "xu6rNTEFKswK"
      },
      "source": [
        "Esta vez vamos a realizar lo mismo que con Train, pero se van a coger todas las imágenes de Test, no se van a limitar."
      ]
    },
    {
      "cell_type": "code",
      "metadata": {
        "id": "o9TVqI07KswK"
      },
      "source": [
        "testlistaBosque = []\n",
        "for i in os.listdir(\"/tmp/test/bosques\"):\n",
        "  aux = io.imread(\"/tmp/test/bosques/\" + i)\n",
        "  if(aux.shape == (150,150,3)):\n",
        "    #aux = aux[20:130, 20:130 , : ]\n",
        "    aux = transform.resize(aux,output_shape=(h,w))   \n",
        "    aux = filters.unsharp_mask(aux, radius=radius)\n",
        "    testlistaBosque.append(aux.reshape(-1))\n",
        "\n",
        "testlistaCalles = []\n",
        "for i in os.listdir(\"/tmp/test/calles\"):\n",
        "  aux = io.imread(\"/tmp/test/calles/\" + i)\n",
        "  if(aux.shape == (150,150,3)):\n",
        "    #aux = aux[20:130, 20:130 , : ]\n",
        "    aux = transform.resize(aux,output_shape=(h,w))\n",
        "    aux = filters.unsharp_mask(aux, radius=radius)\n",
        "    testlistaCalles.append(aux.reshape(-1))\n",
        "\n",
        "testlistaEdificios = []\n",
        "for i in os.listdir(\"/tmp/test/edificios\"):\n",
        "  aux = io.imread(\"/tmp/test/edificios/\" + i)\n",
        "  if(aux.shape == (150,150,3)):\n",
        "    #aux = aux[20:130, 20:130 , : ]\n",
        "    aux = transform.resize(aux,output_shape=(h,w))\n",
        "    aux = filters.unsharp_mask(aux, radius=radius)\n",
        "    testlistaEdificios.append(aux.reshape(-1))\n",
        "\n",
        "testlistaGlaciares = []\n",
        "for i in os.listdir(\"/tmp/test/glaciares\"):\n",
        "  aux = io.imread(\"/tmp/test/glaciares/\" + i)\n",
        "  if(aux.shape == (150,150,3)):\n",
        "    #aux = aux[20:130, 20:130 , : ]\n",
        "    aux = transform.resize(aux,output_shape=(h,w))\n",
        "    aux = filters.unsharp_mask(aux, radius=radius)\n",
        "    testlistaGlaciares.append(aux.reshape(-1))\n",
        "\n",
        "testlistaMares = []\n",
        "for i in os.listdir(\"/tmp/test/mares\"):\n",
        "  aux = io.imread(\"/tmp/test/mares/\" + i)\n",
        "  if(aux.shape == (150,150,3)):\n",
        "   #aux = aux[20:130, 20:130 , : ]\n",
        "    aux = transform.resize(aux,output_shape=(h,w))\n",
        "    aux = filters.unsharp_mask(aux, radius=radius)\n",
        "    testlistaMares.append(aux.reshape(-1))\n",
        "\n",
        "testlistaMontanias = []\n",
        "for i in os.listdir(\"/tmp/test/montan╠âas\"):\n",
        "  aux = io.imread(\"/tmp/test/montan╠âas/\" + i)\n",
        "  if(aux.shape == (150,150,3)):\n",
        "    #aux = aux[20:130, 20:130 , : ]\n",
        "    aux = transform.resize(aux,output_shape=(h,w))\n",
        "    aux = filters.unsharp_mask(aux, radius=radius)\n",
        "    testlistaMontanias.append(aux.reshape(-1))\n",
        "\n",
        "testDF_Bosques = pd.DataFrame(testlistaBosque)\n",
        "testDF_Calles = pd.DataFrame(testlistaCalles)\n",
        "testDF_Edificios = pd.DataFrame(testlistaEdificios)\n",
        "testDF_Glaciares = pd.DataFrame(testlistaGlaciares)\n",
        "testDF_Mares = pd.DataFrame(testlistaMares)\n",
        "testDF_Montanias = pd.DataFrame(testlistaMontanias)\n",
        "\n",
        "testDF_Bosques[\"Objetivo\"] = 1\n",
        "testDF_Calles[\"Objetivo\"] = 5\n",
        "testDF_Edificios[\"Objetivo\"] = 0\n",
        "testDF_Glaciares[\"Objetivo\"] = 2\n",
        "testDF_Mares[\"Objetivo\"] = 4\n",
        "testDF_Montanias[\"Objetivo\"] = 3\n",
        "\n",
        "DF_Test = pd.concat([testDF_Bosques, testDF_Calles, testDF_Edificios, testDF_Glaciares, testDF_Mares, testDF_Montanias])"
      ],
      "execution_count": null,
      "outputs": []
    },
    {
      "cell_type": "markdown",
      "metadata": {
        "id": "dgu3DHLY5nj-"
      },
      "source": [
        "A continuación dividimos los datos en los conjuntos `X_train`, `y_train`, `X_test` e `y_test`."
      ]
    },
    {
      "cell_type": "code",
      "metadata": {
        "id": "jHK9OSenAE4H"
      },
      "source": [
        "X_test = DF_Test.drop([\"Objetivo\"], axis=1)\n",
        "y_test = DF_Test[[\"Objetivo\"]]\n",
        "y_test = y_test.to_numpy()\n",
        "y_test = y_test.transpose().reshape(-1)"
      ],
      "execution_count": null,
      "outputs": []
    },
    {
      "cell_type": "code",
      "metadata": {
        "id": "4JvhUNsw7QqN"
      },
      "source": [
        "X_train = DF_Completo.drop([\"Objetivo\"], axis=1)\n",
        "y_train = DF_Completo[[\"Objetivo\"]]\n",
        "y_train = y_train.to_numpy()\n",
        "y_train = y_train.transpose().reshape(-1)"
      ],
      "execution_count": null,
      "outputs": []
    },
    {
      "cell_type": "markdown",
      "metadata": {
        "id": "ZgUmUaCX6FiK"
      },
      "source": [
        "De nuevo, volvemos a borrar datos que ya no vamos a utilizar para liberar espacio de RAM."
      ]
    },
    {
      "cell_type": "code",
      "metadata": {
        "id": "lQFH5fBxFJlw"
      },
      "source": [
        "del testlistaBosque\n",
        "del testlistaCalles\n",
        "del testlistaEdificios\n",
        "del testlistaGlaciares\n",
        "del testlistaMares\n",
        "del testlistaMontanias\n",
        "\n",
        "del testDF_Bosques\n",
        "del testDF_Calles\n",
        "del testDF_Edificios\n",
        "del testDF_Glaciares\n",
        "del testDF_Mares\n",
        "del testDF_Montanias"
      ],
      "execution_count": null,
      "outputs": []
    },
    {
      "cell_type": "markdown",
      "metadata": {
        "id": "P-z9qcKhKswK"
      },
      "source": [
        "# **Algoritmos de Clasificación**"
      ]
    },
    {
      "cell_type": "markdown",
      "metadata": {
        "id": "Yc2FOJFD6d5W"
      },
      "source": [
        "## BaggingClassifier con SVC"
      ]
    },
    {
      "cell_type": "code",
      "metadata": {
        "id": "X0aSPgt-KswK"
      },
      "source": [
        "bagSVC_clf = BaggingClassifier(\n",
        "    base_estimator=SVC(random_state=1337, gamma='scale', probability=True), \n",
        "    n_estimators=200,\n",
        "    max_samples=1500, \n",
        "    max_features=2,\n",
        "    n_jobs=-1, \n",
        "    random_state=1337)\n",
        "\n",
        "bagSVC_clf.fit(X_train, y_train);"
      ],
      "execution_count": null,
      "outputs": []
    },
    {
      "cell_type": "code",
      "metadata": {
        "colab": {
          "base_uri": "https://localhost:8080/"
        },
        "id": "BFN_1XRs68ub",
        "outputId": "bd38153b-75f7-4fbf-ff78-ee4b9c753f97"
      },
      "source": [
        "y_pred = bagSVC_clf.predict(X_test)\n",
        "print(\"El resultado es: \" + str(accuracy_score(y_test, y_pred)))"
      ],
      "execution_count": null,
      "outputs": [
        {
          "output_type": "stream",
          "text": [
            "El resultado es: 0.49482124958235885\n"
          ],
          "name": "stdout"
        }
      ]
    },
    {
      "cell_type": "code",
      "metadata": {
        "colab": {
          "base_uri": "https://localhost:8080/",
          "height": 430
        },
        "id": "DXlsFkIACU8n",
        "outputId": "fe5dda19-6daf-4ef0-c5e7-5af8248601d3"
      },
      "source": [
        "fig, ax = plt.subplots(figsize=(7, 7))\n",
        "plot_confusion_matrix(bagSVC_clf, X_test, y_test, normalize=None, cmap='Blues', ax=ax)"
      ],
      "execution_count": null,
      "outputs": [
        {
          "output_type": "execute_result",
          "data": {
            "text/plain": [
              "<sklearn.metrics._plot.confusion_matrix.ConfusionMatrixDisplay at 0x7fdb88bedb38>"
            ]
          },
          "metadata": {
            "tags": []
          },
          "execution_count": 28
        },
        {
          "output_type": "display_data",
          "data": {
            "image/png": "[encoded data removed]",
            "text/plain": [
              "<Figure size 504x504 with 2 Axes>"
            ]
          },
          "metadata": {
            "tags": [],
            "needs_background": "light"
          }
        }
      ]
    },
    {
      "cell_type": "markdown",
      "metadata": {
        "id": "Hsnh9f6hICPA"
      },
      "source": [
        "Como se puede ver arriba el resultado del accuracy score es de 0.4948, lo cual para el caso que tratamos y las imágenes que tenemos no está mal pero se puede intentar mejorar a un numero mayor de 0.50.<br>\n",
        "<br>\n",
        "Por otro lado en la matriz de confusión se observa lo siguiente:<br>\n",
        "\n",
        "\n",
        "*   Confunde los edificios principalmente con bosques, glaciares y montañas.\n",
        "*   Los bosques son los que mejor diferencia.\n",
        "*   Los glaciares los confunde con montañas.\n",
        "*   Confunde montañas con glaciares principalmente.\n",
        "*   Los mares los confunde con bosques, glaciares y montañas principalmente.\n",
        "*   Las calles las confunde con edificios.\n"
      ]
    },
    {
      "cell_type": "markdown",
      "metadata": {
        "id": "qXBhm1B57N4r"
      },
      "source": [
        "## BaggingClassifier con DecisionTreeClassifier"
      ]
    },
    {
      "cell_type": "code",
      "metadata": {
        "id": "t7jO7TrAKswK"
      },
      "source": [
        "bagTree_clf = BaggingClassifier(\n",
        "    base_estimator=DecisionTreeClassifier(criterion='entropy', splitter='best', max_depth=5, random_state=1337),\n",
        "    n_estimators=1500,  \n",
        "    max_samples=3000, \n",
        "    max_features=5,    \n",
        "    n_jobs=-1, \n",
        "    random_state=1337)\n",
        "\n",
        "bagTree_clf.fit(X_train, y_train);"
      ],
      "execution_count": null,
      "outputs": []
    },
    {
      "cell_type": "code",
      "metadata": {
        "colab": {
          "base_uri": "https://localhost:8080/"
        },
        "id": "7DWXNqjR7HfD",
        "outputId": "d0afee8f-9e44-4cd2-e536-dc7e02ccc334"
      },
      "source": [
        "y_pred = bagTree_clf.predict(X_test)\n",
        "print(\"El resultado es: \" + str(accuracy_score(y_test, y_pred)))"
      ],
      "execution_count": null,
      "outputs": [
        {
          "output_type": "stream",
          "text": [
            "El resultado es: 0.5399264951553625\n"
          ],
          "name": "stdout"
        }
      ]
    },
    {
      "cell_type": "code",
      "metadata": {
        "colab": {
          "base_uri": "https://localhost:8080/",
          "height": 430
        },
        "id": "83s7mGXaFvyf",
        "outputId": "3c332e39-a694-41a2-8dbf-3d9c48176039"
      },
      "source": [
        "fig, ax = plt.subplots(figsize=(7, 7))\n",
        "plot_confusion_matrix(bagTree_clf, X_test, y_test, normalize=None, cmap='Greens', ax=ax)"
      ],
      "execution_count": null,
      "outputs": [
        {
          "output_type": "execute_result",
          "data": {
            "text/plain": [
              "<sklearn.metrics._plot.confusion_matrix.ConfusionMatrixDisplay at 0x7fdb980a1e10>"
            ]
          },
          "metadata": {
            "tags": []
          },
          "execution_count": 29
        },
        {
          "output_type": "display_data",
          "data": {
            "image/png": "[encoded data removed]",
            "text/plain": [
              "<Figure size 504x504 with 2 Axes>"
            ]
          },
          "metadata": {
            "tags": [],
            "needs_background": "light"
          }
        }
      ]
    },
    {
      "cell_type": "markdown",
      "metadata": {
        "id": "m54_aCBHPBc_"
      },
      "source": [
        "El accuracy score mejora con respecto al anterior (es 0.5399) entorno a un 0.05 lo cual es bastante.<br>\n",
        "<br>\n",
        "En cuanto a la matriz de confusión, se puede observar que es muy similar a la anterior y las deducciones que hemos obtenido antes se mantienen, salvo por que algunos valores se mejoran ligeramente y hay alguno suelto que empeora."
      ]
    },
    {
      "cell_type": "markdown",
      "metadata": {
        "id": "A6KcnZV9QHCb"
      },
      "source": [
        "## VotingClassifier con LogisticRegression, GaussianNB y SVC"
      ]
    },
    {
      "cell_type": "code",
      "metadata": {
        "colab": {
          "base_uri": "https://localhost:8080/"
        },
        "id": "YedW8FIUQHqz",
        "outputId": "2573550d-9272-4f4c-fb2b-23e1c3b29346"
      },
      "source": [
        "log_clf = LogisticRegression(random_state=1337, solver='lbfgs')\n",
        "nb_clf = GaussianNB()\n",
        "svm_clf = SVC(random_state=1337, gamma='auto')\n",
        "\n",
        "voting_clf = VotingClassifier(\n",
        "    estimators=[('lr', log_clf), ('nb', nb_clf), ('svc', svm_clf)],\n",
        "    voting='hard')\n",
        "\n",
        "voting_clf.fit(X_train, y_train);"
      ],
      "execution_count": null,
      "outputs": [
        {
          "output_type": "stream",
          "text": [
            "/usr/local/lib/python3.6/dist-packages/sklearn/linear_model/_logistic.py:940: ConvergenceWarning: lbfgs failed to converge (status=1):\n",
            "STOP: TOTAL NO. of ITERATIONS REACHED LIMIT.\n",
            "\n",
            "Increase the number of iterations (max_iter) or scale the data as shown in:\n",
            "    https://scikit-learn.org/stable/modules/preprocessing.html\n",
            "Please also refer to the documentation for alternative solver options:\n",
            "    https://scikit-learn.org/stable/modules/linear_model.html#logistic-regression\n",
            "  extra_warning_msg=_LOGISTIC_SOLVER_CONVERGENCE_MSG)\n"
          ],
          "name": "stderr"
        },
        {
          "output_type": "execute_result",
          "data": {
            "text/plain": [
              "VotingClassifier(estimators=[('lr',\n",
              "                              LogisticRegression(C=1.0, class_weight=None,\n",
              "                                                 dual=False, fit_intercept=True,\n",
              "                                                 intercept_scaling=1,\n",
              "                                                 l1_ratio=None, max_iter=100,\n",
              "                                                 multi_class='auto',\n",
              "                                                 n_jobs=None, penalty='l2',\n",
              "                                                 random_state=42,\n",
              "                                                 solver='lbfgs', tol=0.0001,\n",
              "                                                 verbose=0, warm_start=False)),\n",
              "                             ('nb',\n",
              "                              GaussianNB(priors=None, var_smoothing=1e-09)),\n",
              "                             ('svc',\n",
              "                              SVC(C=1.0, break_ties=False, cache_size=200,\n",
              "                                  class_weight=None, coef0=0.0,\n",
              "                                  decision_function_shape='ovr', degree=3,\n",
              "                                  gamma='auto', kernel='rbf', max_iter=-1,\n",
              "                                  probability=False, random_state=42,\n",
              "                                  shrinking=True, tol=0.001, verbose=False))],\n",
              "                 flatten_transform=True, n_jobs=None, voting='hard',\n",
              "                 weights=None)"
            ]
          },
          "metadata": {
            "tags": []
          },
          "execution_count": 32
        }
      ]
    },
    {
      "cell_type": "code",
      "metadata": {
        "colab": {
          "base_uri": "https://localhost:8080/"
        },
        "id": "F5rq2DQeQh8D",
        "outputId": "466d4768-d4cf-4058-bb6b-f901e6d39613"
      },
      "source": [
        "y_pred = voting_clf.predict(X_test)\n",
        "print(\"El resultado es: \" + str(accuracy_score(y_test, y_pred)))"
      ],
      "execution_count": null,
      "outputs": [
        {
          "output_type": "stream",
          "text": [
            "El resultado es: 0.5502839959906448\n"
          ],
          "name": "stdout"
        }
      ]
    },
    {
      "cell_type": "code",
      "metadata": {
        "colab": {
          "base_uri": "https://localhost:8080/",
          "height": 430
        },
        "id": "aceEsg3CQiZL",
        "outputId": "74c281d7-c5af-43b5-fd20-a2aa2091e158"
      },
      "source": [
        "fig, ax = plt.subplots(figsize=(7, 7))\n",
        "plot_confusion_matrix(voting_clf, X_test, y_test, normalize=None, cmap='Reds', ax=ax)"
      ],
      "execution_count": null,
      "outputs": [
        {
          "output_type": "execute_result",
          "data": {
            "text/plain": [
              "<sklearn.metrics._plot.confusion_matrix.ConfusionMatrixDisplay at 0x7fdb97ff5898>"
            ]
          },
          "metadata": {
            "tags": []
          },
          "execution_count": 34
        },
        {
          "output_type": "display_data",
          "data": {
            "image/png": "[encoded data removed]",
            "text/plain": [
              "<Figure size 504x504 with 2 Axes>"
            ]
          },
          "metadata": {
            "tags": [],
            "needs_background": "light"
          }
        }
      ]
    },
    {
      "cell_type": "markdown",
      "metadata": {
        "id": "rML6KyQhbA18"
      },
      "source": [
        "El accuracy score mejora con respecto al anterior en 0.02.<br>\n",
        "<br>\n",
        "\n",
        "\n",
        "*   Mejora la identificación de edificios de forma significativa.\n",
        "*   Las montañas ya no son confundidas con edificios tan amenudo.\n",
        "*   La identificación de calles ha empeorado con respecto al anterior en distinguirlas de edificios pero a mejorado en su identificación con respecto a los bosques.\n",
        "\n"
      ]
    },
    {
      "cell_type": "markdown",
      "metadata": {
        "id": "kkTTnZOwcg2k"
      },
      "source": [
        "## AdaBoostClassifier"
      ]
    },
    {
      "cell_type": "code",
      "metadata": {
        "id": "oniSbvz_ciSD"
      },
      "source": [
        "ada_clf = AdaBoostClassifier(\n",
        "    base_estimator=DecisionTreeClassifier(max_depth=1), \n",
        "    n_estimators=100, \n",
        "    random_state=1337)\n",
        "\n",
        "ada_clf.fit(X_train, y_train);"
      ],
      "execution_count": null,
      "outputs": []
    },
    {
      "cell_type": "code",
      "metadata": {
        "colab": {
          "base_uri": "https://localhost:8080/"
        },
        "id": "gZe4QER6cuDU",
        "outputId": "0128e13e-73e0-4a79-c12a-4713a9d6f518"
      },
      "source": [
        "y_pred = ada_clf.predict(X_test)\n",
        "print(\"El resultado es: \" + str(accuracy_score(y_test, y_pred)))"
      ],
      "execution_count": null,
      "outputs": [
        {
          "output_type": "stream",
          "text": [
            "El resultado es: 0.47644503842298697\n"
          ],
          "name": "stdout"
        }
      ]
    },
    {
      "cell_type": "code",
      "metadata": {
        "colab": {
          "base_uri": "https://localhost:8080/",
          "height": 430
        },
        "id": "A9ukeYZJcwm9",
        "outputId": "bcfa27e6-8abb-4b70-fd68-3b305b06bb9f"
      },
      "source": [
        "fig, ax = plt.subplots(figsize=(7, 7))\n",
        "plot_confusion_matrix(ada_clf, X_test, y_test, normalize=None, cmap='Purples', ax=ax)"
      ],
      "execution_count": null,
      "outputs": [
        {
          "output_type": "execute_result",
          "data": {
            "text/plain": [
              "<sklearn.metrics._plot.confusion_matrix.ConfusionMatrixDisplay at 0x7fdb98049b38>"
            ]
          },
          "metadata": {
            "tags": []
          },
          "execution_count": 47
        },
        {
          "output_type": "display_data",
          "data": {
            "image/png": "[encoded data removed]",
            "text/plain": [
              "<Figure size 504x504 with 2 Axes>"
            ]
          },
          "metadata": {
            "tags": [],
            "needs_background": "light"
          }
        }
      ]
    },
    {
      "cell_type": "markdown",
      "metadata": {
        "id": "akEDNEMrh33H"
      },
      "source": [
        "Tiene peores resultados con respecto a todos los anteriores algoritmos.<br>\n",
        "<br>\n",
        "En la matriz de confusión se observa un aumento generalizado de los valores, lo que explica el peor resultado en el accuracy score.\n"
      ]
    },
    {
      "cell_type": "markdown",
      "metadata": {
        "id": "1EdHwwfgdKyL"
      },
      "source": [
        "## StackingClassifier"
      ]
    },
    {
      "cell_type": "code",
      "metadata": {
        "colab": {
          "base_uri": "https://localhost:8080/"
        },
        "id": "SB-GLxTFdLU7",
        "outputId": "f110babc-3d54-43dc-c415-a746ee361177"
      },
      "source": [
        "log_clf = LogisticRegression(random_state=1337, solver='lbfgs')\n",
        "nb_clf = GaussianNB()\n",
        "svm_clf = SVC(random_state=1337, gamma='auto')\n",
        "\n",
        "stack_clf = StackingClassifier(\n",
        "    estimators=[('lr', log_clf), ('nb', nb_clf), ('svc', svm_clf)],\n",
        "    final_estimator=SVC(random_state=1337, gamma='auto'),\n",
        "    passthrough=True)\n",
        "\n",
        "stack_clf.fit(X_train, y_train);"
      ],
      "execution_count": null,
      "outputs": [
        {
          "output_type": "stream",
          "text": [
            "/usr/local/lib/python3.6/dist-packages/sklearn/linear_model/_logistic.py:940: ConvergenceWarning: lbfgs failed to converge (status=1):\n",
            "STOP: TOTAL NO. of ITERATIONS REACHED LIMIT.\n",
            "\n",
            "Increase the number of iterations (max_iter) or scale the data as shown in:\n",
            "    https://scikit-learn.org/stable/modules/preprocessing.html\n",
            "Please also refer to the documentation for alternative solver options:\n",
            "    https://scikit-learn.org/stable/modules/linear_model.html#logistic-regression\n",
            "  extra_warning_msg=_LOGISTIC_SOLVER_CONVERGENCE_MSG)\n",
            "/usr/local/lib/python3.6/dist-packages/sklearn/linear_model/_logistic.py:940: ConvergenceWarning: lbfgs failed to converge (status=1):\n",
            "STOP: TOTAL NO. of ITERATIONS REACHED LIMIT.\n",
            "\n",
            "Increase the number of iterations (max_iter) or scale the data as shown in:\n",
            "    https://scikit-learn.org/stable/modules/preprocessing.html\n",
            "Please also refer to the documentation for alternative solver options:\n",
            "    https://scikit-learn.org/stable/modules/linear_model.html#logistic-regression\n",
            "  extra_warning_msg=_LOGISTIC_SOLVER_CONVERGENCE_MSG)\n",
            "/usr/local/lib/python3.6/dist-packages/sklearn/linear_model/_logistic.py:940: ConvergenceWarning: lbfgs failed to converge (status=1):\n",
            "STOP: TOTAL NO. of ITERATIONS REACHED LIMIT.\n",
            "\n",
            "Increase the number of iterations (max_iter) or scale the data as shown in:\n",
            "    https://scikit-learn.org/stable/modules/preprocessing.html\n",
            "Please also refer to the documentation for alternative solver options:\n",
            "    https://scikit-learn.org/stable/modules/linear_model.html#logistic-regression\n",
            "  extra_warning_msg=_LOGISTIC_SOLVER_CONVERGENCE_MSG)\n",
            "/usr/local/lib/python3.6/dist-packages/sklearn/linear_model/_logistic.py:940: ConvergenceWarning: lbfgs failed to converge (status=1):\n",
            "STOP: TOTAL NO. of ITERATIONS REACHED LIMIT.\n",
            "\n",
            "Increase the number of iterations (max_iter) or scale the data as shown in:\n",
            "    https://scikit-learn.org/stable/modules/preprocessing.html\n",
            "Please also refer to the documentation for alternative solver options:\n",
            "    https://scikit-learn.org/stable/modules/linear_model.html#logistic-regression\n",
            "  extra_warning_msg=_LOGISTIC_SOLVER_CONVERGENCE_MSG)\n",
            "/usr/local/lib/python3.6/dist-packages/sklearn/linear_model/_logistic.py:940: ConvergenceWarning: lbfgs failed to converge (status=1):\n",
            "STOP: TOTAL NO. of ITERATIONS REACHED LIMIT.\n",
            "\n",
            "Increase the number of iterations (max_iter) or scale the data as shown in:\n",
            "    https://scikit-learn.org/stable/modules/preprocessing.html\n",
            "Please also refer to the documentation for alternative solver options:\n",
            "    https://scikit-learn.org/stable/modules/linear_model.html#logistic-regression\n",
            "  extra_warning_msg=_LOGISTIC_SOLVER_CONVERGENCE_MSG)\n",
            "/usr/local/lib/python3.6/dist-packages/sklearn/linear_model/_logistic.py:940: ConvergenceWarning: lbfgs failed to converge (status=1):\n",
            "STOP: TOTAL NO. of ITERATIONS REACHED LIMIT.\n",
            "\n",
            "Increase the number of iterations (max_iter) or scale the data as shown in:\n",
            "    https://scikit-learn.org/stable/modules/preprocessing.html\n",
            "Please also refer to the documentation for alternative solver options:\n",
            "    https://scikit-learn.org/stable/modules/linear_model.html#logistic-regression\n",
            "  extra_warning_msg=_LOGISTIC_SOLVER_CONVERGENCE_MSG)\n"
          ],
          "name": "stderr"
        }
      ]
    },
    {
      "cell_type": "code",
      "metadata": {
        "id": "aZi8qgB1dTsL",
        "colab": {
          "base_uri": "https://localhost:8080/"
        },
        "outputId": "2484f4e2-a053-46c5-9990-8f4e644ab941"
      },
      "source": [
        "y_pred = stack_clf.predict(X_test)\n",
        "print(\"El resultado es: \" + str(accuracy_score(y_test, y_pred)))"
      ],
      "execution_count": null,
      "outputs": [
        {
          "output_type": "stream",
          "text": [
            "El resultado es: 0.5679919812896759\n"
          ],
          "name": "stdout"
        }
      ]
    },
    {
      "cell_type": "code",
      "metadata": {
        "id": "XObJX-uFdT8S",
        "colab": {
          "base_uri": "https://localhost:8080/",
          "height": 429
        },
        "outputId": "8e4d5925-fc05-43bc-a69d-718d75894862"
      },
      "source": [
        "fig, ax = plt.subplots(figsize=(7, 7))\n",
        "plot_confusion_matrix(stack_clf, X_test, y_test, normalize=None, cmap='Greys', ax=ax)"
      ],
      "execution_count": null,
      "outputs": [
        {
          "output_type": "execute_result",
          "data": {
            "text/plain": [
              "<sklearn.metrics._plot.confusion_matrix.ConfusionMatrixDisplay at 0x7f91de130588>"
            ]
          },
          "metadata": {
            "tags": []
          },
          "execution_count": 24
        },
        {
          "output_type": "display_data",
          "data": {
            "image/png": "[encoded data removed]",
            "text/plain": [
              "<Figure size 504x504 with 2 Axes>"
            ]
          },
          "metadata": {
            "tags": [],
            "needs_background": "light"
          }
        }
      ]
    },
    {
      "cell_type": "markdown",
      "metadata": {
        "id": "ZtQed8xZjBfW"
      },
      "source": [
        "En cuanto al accuracy score observamos que es claramente mejor que los anteriores pero debido a que su ejecución ha sido mucho más lenta (en torno a 3 horas) por ello consideramos que no es el mejor algoritmo de los vistos.<br>\n",
        "<br>\n",
        "La matriz de confusióon muestra unos resultados similares a los anteriores pero con claras mejoras, exceptuando algún pico de 70 o superior."
      ]
    },
    {
      "cell_type": "markdown",
      "metadata": {
        "id": "3gdj_UbxkCOh"
      },
      "source": [
        "## Conclusiones generales\n",
        "Resumen de lo observado en las diferentes matrices de confusión"
      ]
    },
    {
      "cell_type": "markdown",
      "metadata": {
        "id": "jnsjaAqykQsO"
      },
      "source": [
        "En general se puede observar que las imágenes que más se confunden son:\n",
        "*    Los mares con los glaciares, esto se explica por la similitud en los tonos de las imágenes.\n",
        "*    Las calles con los edificios, porque las imágenes guardan muchas similitudes, la gama de colores, las líneas rectas y ángulos marcados en ambos tipos de imágenes.\n",
        "*    Por último, los edificios son las imágenes que más le cuesta distinguir ya que los confunde con prácticamente todas las demás imágenes en las mismas proporciones.\n",
        "\n"
      ]
    },
    {
      "cell_type": "markdown",
      "metadata": {
        "id": "zo1LBsdEr5rP"
      },
      "source": [
        "# **Optimización con GridSearch**"
      ]
    },
    {
      "cell_type": "code",
      "metadata": {
        "id": "FcLDEmL_smQd"
      },
      "source": [
        "base_estimator_bagg = [DecisionTreeClassifier(random_state=1337, max_depth=1), SVC(random_state=1337)]\n",
        "n_estimators_bagg = [1000, 1750]\n",
        "max_samples_bagg = [1250, 1750]\n",
        "max_features_bagg = [5, 10]\n",
        "\n",
        "max_iter_log = [50, 100]\n",
        "gamma_svm = [\"scale\", \"auto\"]"
      ],
      "execution_count": null,
      "outputs": []
    },
    {
      "cell_type": "markdown",
      "metadata": {
        "id": "2RCs8U2zsT79"
      },
      "source": [
        "## BaggingClassifier"
      ]
    },
    {
      "cell_type": "code",
      "metadata": {
        "colab": {
          "base_uri": "https://localhost:8080/"
        },
        "id": "gtiojz6bsezO",
        "outputId": "9a9e6504-de0b-4d4a-c9a5-ea15a2d12b02"
      },
      "source": [
        "grid_bagg = GridSearchCV(\n",
        "    BaggingClassifier(),\n",
        "    {\n",
        "    \"base_estimator\": base_estimator_bagg,\n",
        "    \"n_estimators\": n_estimators_bagg,\n",
        "    \"max_samples\": max_samples_bagg,\n",
        "    \"max_features\": max_features_bagg\n",
        "    },\n",
        "    n_jobs=-1,\n",
        ")\n",
        "grid_bagg.fit(X_train, y_train)\n",
        "grid_bagg.best_params_"
      ],
      "execution_count": null,
      "outputs": [
        {
          "output_type": "stream",
          "text": [
            "/usr/local/lib/python3.6/dist-packages/joblib/externals/loky/process_executor.py:691: UserWarning: A worker stopped while some jobs were given to the executor. This can be caused by a too short worker timeout or by a memory leak.\n",
            "  \"timeout or by a memory leak.\", UserWarning\n"
          ],
          "name": "stderr"
        },
        {
          "output_type": "execute_result",
          "data": {
            "text/plain": [
              "{'base_estimator': SVC(C=1.0, break_ties=False, cache_size=200, class_weight=None, coef0=0.0,\n",
              "     decision_function_shape='ovr', degree=3, gamma='scale', kernel='rbf',\n",
              "     max_iter=-1, probability=False, random_state=1337, shrinking=True,\n",
              "     tol=0.001, verbose=False),\n",
              " 'max_features': 10,\n",
              " 'max_samples': 1750,\n",
              " 'n_estimators': 1000}"
            ]
          },
          "metadata": {
            "tags": []
          },
          "execution_count": 26
        }
      ]
    },
    {
      "cell_type": "markdown",
      "metadata": {
        "id": "heTZWjERwQU8"
      },
      "source": [
        "Una vez obtenidos los datos adecuados los aplicamos"
      ]
    },
    {
      "cell_type": "code",
      "metadata": {
        "colab": {
          "base_uri": "https://localhost:8080/"
        },
        "id": "T28VEsmoxfs1",
        "outputId": "e3d8f8b8-0b7d-4234-ad81-0808a5229919"
      },
      "source": [
        "bagg_clf = BaggingClassifier(\n",
        "    base_estimator=SVC(random_state=1337), \n",
        "    n_estimators=1000,\n",
        "    max_samples=1750, \n",
        "    max_features=10,\n",
        "    n_jobs=-1, \n",
        "    random_state=1337)\n",
        "\n",
        "bagg_clf.fit(X_train, y_train)\n",
        "y_pred = bagg_clf.predict(X_test)\n",
        "print(\"El resultado es: \" + str(accuracy_score(y_test, y_pred)))"
      ],
      "execution_count": null,
      "outputs": [
        {
          "output_type": "stream",
          "text": [
            "El resultado es: 0.5573003675242232\n"
          ],
          "name": "stdout"
        }
      ]
    },
    {
      "cell_type": "markdown",
      "metadata": {
        "id": "hI1RdoZcvgWU"
      },
      "source": [
        "Se puede observar claramente que el resultado del accuracy score es mejor que en la ejecución previa del BaggingClassifier lo que nos indica que el GridSearch se ha ejecutado correctamente."
      ]
    },
    {
      "cell_type": "markdown",
      "metadata": {
        "id": "SaOsYyuVucT2"
      },
      "source": [
        "## VotingClassifier"
      ]
    },
    {
      "cell_type": "code",
      "metadata": {
        "colab": {
          "base_uri": "https://localhost:8080/"
        },
        "id": "jZ-r1zcMudf0",
        "outputId": "b2e2f8df-80fb-4a75-dc31-b1ffd7c0fb54"
      },
      "source": [
        "grid_log = GridSearchCV(\n",
        "    LogisticRegression(solver= \"lbfgs\", random_state=1337),\n",
        "    {\n",
        "    \"max_iter\": max_iter_log\n",
        "    },\n",
        "    n_jobs=-1,\n",
        ")\n",
        "grid_log.fit(X_train, y_train)\n",
        "grid_log.best_params_"
      ],
      "execution_count": null,
      "outputs": [
        {
          "output_type": "stream",
          "text": [
            "/usr/local/lib/python3.6/dist-packages/sklearn/linear_model/_logistic.py:940: ConvergenceWarning: lbfgs failed to converge (status=1):\n",
            "STOP: TOTAL NO. of ITERATIONS REACHED LIMIT.\n",
            "\n",
            "Increase the number of iterations (max_iter) or scale the data as shown in:\n",
            "    https://scikit-learn.org/stable/modules/preprocessing.html\n",
            "Please also refer to the documentation for alternative solver options:\n",
            "    https://scikit-learn.org/stable/modules/linear_model.html#logistic-regression\n",
            "  extra_warning_msg=_LOGISTIC_SOLVER_CONVERGENCE_MSG)\n"
          ],
          "name": "stderr"
        },
        {
          "output_type": "execute_result",
          "data": {
            "text/plain": [
              "{'max_iter': 50}"
            ]
          },
          "metadata": {
            "tags": []
          },
          "execution_count": 33
        }
      ]
    },
    {
      "cell_type": "markdown",
      "metadata": {
        "id": "OkzHUlQ9fcXg"
      },
      "source": [
        "A continuación vamos a aplicar los valores obtenidos al VotingClassifier"
      ]
    },
    {
      "cell_type": "code",
      "metadata": {
        "colab": {
          "base_uri": "https://localhost:8080/"
        },
        "id": "lp7KWTRSxoHk",
        "outputId": "8a212ae1-d0e6-4fb0-97a5-4458108de235"
      },
      "source": [
        "log_clf = LogisticRegression(random_state=1337, solver='lbfgs', max_iter=50)\n",
        "nb_clf = GaussianNB()\n",
        "svm_clf = SVC(random_state=1337, gamma='scale')\n",
        "\n",
        "voting_clf = VotingClassifier(\n",
        "    estimators=[('lr', log_clf), ('nb', nb_clf), ('svc', svm_clf)],\n",
        "    voting='hard')\n",
        "\n",
        "voting_clf.fit(X_train, y_train);"
      ],
      "execution_count": null,
      "outputs": [
        {
          "output_type": "stream",
          "text": [
            "/usr/local/lib/python3.6/dist-packages/sklearn/linear_model/_logistic.py:940: ConvergenceWarning: lbfgs failed to converge (status=1):\n",
            "STOP: TOTAL NO. of ITERATIONS REACHED LIMIT.\n",
            "\n",
            "Increase the number of iterations (max_iter) or scale the data as shown in:\n",
            "    https://scikit-learn.org/stable/modules/preprocessing.html\n",
            "Please also refer to the documentation for alternative solver options:\n",
            "    https://scikit-learn.org/stable/modules/linear_model.html#logistic-regression\n",
            "  extra_warning_msg=_LOGISTIC_SOLVER_CONVERGENCE_MSG)\n"
          ],
          "name": "stderr"
        }
      ]
    },
    {
      "cell_type": "code",
      "metadata": {
        "colab": {
          "base_uri": "https://localhost:8080/"
        },
        "id": "E9i-xXgCGtYS",
        "outputId": "045b2f03-1165-4b8f-8958-85ef2b8a93b0"
      },
      "source": [
        "y_pred = voting_clf.predict(X_test)\n",
        "print(\"El resultado es: \" + str(accuracy_score(y_test, y_pred)))"
      ],
      "execution_count": null,
      "outputs": [
        {
          "output_type": "stream",
          "text": [
            "El resultado es: 0.5887069829602406\n"
          ],
          "name": "stdout"
        }
      ]
    },
    {
      "cell_type": "code",
      "metadata": {
        "colab": {
          "base_uri": "https://localhost:8080/"
        },
        "id": "-2JtreD7LsDx",
        "outputId": "1c5f9d6a-f829-43d7-f23a-ad6dd01f9ac1"
      },
      "source": [
        "log_clf = LogisticRegression(random_state=1337, solver='lbfgs', max_iter=50)\n",
        "nb_clf = GaussianNB()\n",
        "svm_clf = SVC(random_state=1337, gamma='auto')\n",
        "\n",
        "vot_clf = VotingClassifier(\n",
        "    estimators=[('lr', log_clf), ('nb', nb_clf), ('svc', svm_clf)],\n",
        "    voting='hard')\n",
        "\n",
        "vot_clf.fit(X_train, y_train)\n",
        "y_pred = vot_clf.predict(X_test)\n",
        "print(\"El resultado es: \" + str(accuracy_score(y_test, y_pred)))"
      ],
      "execution_count": null,
      "outputs": [
        {
          "output_type": "stream",
          "text": [
            "/usr/local/lib/python3.6/dist-packages/sklearn/linear_model/_logistic.py:940: ConvergenceWarning: lbfgs failed to converge (status=1):\n",
            "STOP: TOTAL NO. of ITERATIONS REACHED LIMIT.\n",
            "\n",
            "Increase the number of iterations (max_iter) or scale the data as shown in:\n",
            "    https://scikit-learn.org/stable/modules/preprocessing.html\n",
            "Please also refer to the documentation for alternative solver options:\n",
            "    https://scikit-learn.org/stable/modules/linear_model.html#logistic-regression\n",
            "  extra_warning_msg=_LOGISTIC_SOLVER_CONVERGENCE_MSG)\n"
          ],
          "name": "stderr"
        },
        {
          "output_type": "stream",
          "text": [
            "El resultado es: 0.5626461744069495\n"
          ],
          "name": "stdout"
        }
      ]
    },
    {
      "cell_type": "markdown",
      "metadata": {
        "id": "JMjpRRPRDbK8"
      },
      "source": [
        "Antes de nada, mencionar que hemos intentado realizar el GridSearch de SVC pero nos daba error todo el rato, de forma que hemos probado de forma manual cual de las dos opciones era mejor (scale o auto).\n",
        "El resultado de SVC scale ha resultado ser mejor, por ello nos quedamos con el resultado 0.5887"
      ]
    },
    {
      "cell_type": "markdown",
      "metadata": {
        "id": "UlrD-oLKhzDj"
      },
      "source": [
        "# **Conclusiones**"
      ]
    },
    {
      "cell_type": "markdown",
      "metadata": {
        "id": "_7fEKGbah65i"
      },
      "source": [
        "Recapitulando, los pasos que hemos ido siguiendo para realizar este proyceto han sido:<br>\n",
        "\n",
        "\n",
        "1.   Preprocesamiento de las imágenes del **DataSet** que se nos había dado, aplicando el filtro `unsharp_mask`, además de usar el `resize` para que todas las imágenes fueran de 85x85 y escogiendo solo 1050 de dichas imágenes.\n",
        "2.   El siguiente paso fue aplicar por primera vez algoritmos de clasificación para ver qué resultados se obtenían. En concreto usamos **BaggingClassifier**, **VotingClassifier**, **AdaBoostClassifier** y **StackingClassifier**.\n",
        "3.   Por último usamos **GridSearch** para buscar los hiperparámetros de algunos de los algoritmos, en este caso en **BaggingClassifier** y el **VotingClassifier**.\n",
        "\n"
      ]
    },
    {
      "cell_type": "markdown",
      "metadata": {
        "id": "RwqmcdRLmFNB"
      },
      "source": [
        "En la primera ejecución de los algoritmos de clasificación, previa a la realización de los **GridSearch** obtuvimos resultados del `accuracy score` comprendidos entre 0.476445 y 0.56799 el peor se daba en el **AdaBoostClassifier** y el mejor en el **StackingClassifier**.<br>\n",
        "Pese a que el mejor resultado fue obtenido por el **StackingClassifier**, consideramos que no es el mejor algoritmo debido a que su ejecución fue con diferencia la más lenta, llegando a las 3 horas. Por ello bajo nuestro punto de vista en esta primera ejecución de los algoritmos el mejor sería el **VotingClassifier**, con un resultado en el `accuracy score` de 0.55028 y un tiempo de ejecución mucho menor."
      ]
    },
    {
      "cell_type": "markdown",
      "metadata": {
        "id": "07BDKnTIojTp"
      },
      "source": [
        "En la ejecución posterior a los **GridSearch** decidimos hacerlo del **BaggingClassifier**, **VotingClassifier** y el **AdaBoostClassifier**. Pero debido a que el **AdaBoostClassifier** nos empezó a dar problemas y errores y no conseguimos solucionarlo, decidimos no incluirlo.<br>\n",
        "En el caso del **BaggingClassifier** los resultados que obtuvimos en el `accuracy score` habían mejorado hasta el 0.557 desde el 0.4948 y el 0.5399, lo cual en el primer caso supone una mejora considerable.<br>\n",
        "Por otro lado en el caso del **VotingClassifier**, como ya hemos comentado arriba nos surgió un problema en el **GridSearch** del **SVC** y decidimos hacer a mano parte. Los resultados que obtuvimos en el `accuracy score` son de 0.5887 lo que implica ser el mejor resultado de todos los algoritmos realizados, además de una mejora con respecto al resultado previo al **GridSearch**."
      ]
    },
    {
      "cell_type": "markdown",
      "metadata": {
        "id": "LrK-u6IVrnR5"
      },
      "source": [
        "El resultado final obtenido nos parece adecuado dado que el **DataSet** estaba muy poco pulido. De hecho hicimos pruebas puliéndolo de forma manual (manteniendo siempre las proporciones de los datos) y obtuvimos mejoras considerables en los resultados de hasta una subida de 0.08 del `accuracy score`. El factor limitante en esta práctica han sido sin duda los tiempos de ejecución y la RAM del entorno, de hecho nos hemos visto obligados a limitar a 1050 el número de imágenes de cada sección para garantizar la correcta ejecución de los algoritmos dentro de Google Colab, además de reducir la calidad de la imágen a casi la mitad de la original.<br>\n",
        "Esto unido a que un **Algoritmo de Clasificación** de los estudiados rara vez será mejor que una **Red Neuronal Convolucional** en la distinción e identificación de imágenes, nos hace ver que los resultados obtenidos son mejores de lo que parecen."
      ]
    }
  ]
}